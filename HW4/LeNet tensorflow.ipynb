{
 "cells": [
  {
   "cell_type": "code",
   "execution_count": 167,
   "metadata": {},
   "outputs": [],
   "source": [
    "from tensorflow.keras import Sequential\n",
    "from tensorflow.keras.layers import Conv2D, AveragePooling2D, Flatten, Dense\n",
    "from tensorflow.keras.losses import CategoricalCrossentropy\n",
    "from keras.utils import to_categorical\n",
    "import numpy as np\n",
    "import matplotlib.pyplot as plt\n",
    "import tensorflow as tf\n",
    "%matplotlib inline\n",
    "import pickle\n",
    "import time"
   ]
  },
  {
   "cell_type": "markdown",
   "metadata": {},
   "source": [
    "# load data"
   ]
  },
  {
   "cell_type": "code",
   "execution_count": 168,
   "metadata": {},
   "outputs": [],
   "source": [
    "with open('../data_pickle/resized64_train_data256.pickle', 'rb') as f :\n",
    "    train = pickle.load(f)\n",
    "with open('../data_pickle/resized64_valid_data256.pickle', 'rb') as f :\n",
    "    valid = pickle.load(f)\n",
    "with open('../data_pickle/resized64_test_data256.pickle', 'rb') as f :\n",
    "    test = pickle.load(f)"
   ]
  },
  {
   "cell_type": "code",
   "execution_count": 169,
   "metadata": {},
   "outputs": [],
   "source": [
    "X_train = np.array(train['train_data'])\n",
    "Y_train = np.array(train['train_label'])\n",
    "X_val = np.array(valid['valid_data'])\n",
    "Y_val = np.array(valid['valid_label'])\n",
    "X_test = np.array(test['test_data'])\n",
    "Y_test = np.array(test['test_label'])"
   ]
  },
  {
   "cell_type": "code",
   "execution_count": 128,
   "metadata": {},
   "outputs": [],
   "source": [
    "Y_test0 = np.array(test['test_label'])"
   ]
  },
  {
   "cell_type": "code",
   "execution_count": 165,
   "metadata": {},
   "outputs": [],
   "source": [
    "# Normalization.\n",
    "def custom_normalization(data, std, mean):\n",
    "    return (data - mean) / std\n",
    "\n",
    "mean, std = X_train.mean(), X_train.std()\n",
    "X_train = custom_normalization(X_train, mean, std)\n",
    "mean, std = X_val.mean(), X_val.std()\n",
    "X_val = custom_normalization(X_val, mean, std)\n",
    "mean, std = X_test.mean(), X_test.std()\n",
    "X_test = custom_normalization(X_test, mean, std)"
   ]
  },
  {
   "cell_type": "code",
   "execution_count": 192,
   "metadata": {},
   "outputs": [],
   "source": [
    "Y_train=to_categorical(Y_train, 50)\n",
    "Y_val=to_categorical(Y_val, 50)\n",
    "Y_test=to_categorical(Y_test, 50)"
   ]
  },
  {
   "cell_type": "markdown",
   "metadata": {},
   "source": [
    "# define LeNet FC"
   ]
  },
  {
   "cell_type": "code",
   "execution_count": 20,
   "metadata": {},
   "outputs": [],
   "source": [
    "def LeNet_5():\n",
    "    model = Sequential()\n",
    "\n",
    "    # C1: (None,64,64,3) -> (None,60, 60, 6).\n",
    "    model.add(Conv2D(6, kernel_size=(5, 5), strides=(1, 1), activation='tanh', input_shape=(64,64,3), padding='valid'))\n",
    "\n",
    "    # P1: (None,60, 60, 6) -> (None,30, 30, 6).\n",
    "    model.add(AveragePooling2D(pool_size=(2, 2), strides=(2, 2), padding='valid'))\n",
    "\n",
    "    # C2: (None,30, 30, 6) -> (None, 26, 26, 16).\n",
    "    model.add(Conv2D(16, kernel_size=(5, 5), strides=(1, 1), activation='tanh', padding='valid'))\n",
    "\n",
    "    # P2: (None, 26, 26, 16) -> (None,13, 13, 16).\n",
    "    model.add(AveragePooling2D(pool_size=(2, 2), strides=(2, 2), padding='valid'))\n",
    "\n",
    "    # Flatten: (None,13, 13, 16) -> (None, 2704).\n",
    "    model.add(Flatten())\n",
    "\n",
    "    # FC1: (None, 2704) -> (None,1024).\n",
    "    model.add(Dense(1024, activation='tanh'))\n",
    "\n",
    "    # FC2: (None,1024) -> (None,256).\n",
    "    model.add(Dense(256, activation='tanh'))\n",
    "\n",
    "    # FC3: (None,256) -> (None,50).\n",
    "    model.add(Dense(50, activation='softmax'))\n",
    "\n",
    "    # Compile the model\n",
    "    model.compile(loss='sparse_categorical_crossentropy', optimizer='sgd', metrics=['accuracy']) \n",
    "    \n",
    "    return model"
   ]
  },
  {
   "cell_type": "code",
   "execution_count": 28,
   "metadata": {},
   "outputs": [],
   "source": [
    "model=LeNet_5()\n",
    "model.compile(optimizer='sgd',loss='categorical_crossentropy',metrics=['accuracy'])"
   ]
  },
  {
   "cell_type": "code",
   "execution_count": 170,
   "metadata": {
    "scrolled": false
   },
   "outputs": [
    {
     "name": "stdout",
     "output_type": "stream",
     "text": [
      "Model: \"sequential_2\"\n",
      "_________________________________________________________________\n",
      "Layer (type)                 Output Shape              Param #   \n",
      "=================================================================\n",
      "conv2d_4 (Conv2D)            (None, 60, 60, 6)         456       \n",
      "_________________________________________________________________\n",
      "average_pooling2d_4 (Average (None, 30, 30, 6)         0         \n",
      "_________________________________________________________________\n",
      "conv2d_5 (Conv2D)            (None, 26, 26, 16)        2416      \n",
      "_________________________________________________________________\n",
      "average_pooling2d_5 (Average (None, 13, 13, 16)        0         \n",
      "_________________________________________________________________\n",
      "flatten_2 (Flatten)          (None, 2704)              0         \n",
      "_________________________________________________________________\n",
      "dense_6 (Dense)              (None, 1024)              2769920   \n",
      "_________________________________________________________________\n",
      "dense_7 (Dense)              (None, 256)               262400    \n",
      "_________________________________________________________________\n",
      "dense_8 (Dense)              (None, 50)                12850     \n",
      "=================================================================\n",
      "Total params: 3,048,042\n",
      "Trainable params: 3,048,042\n",
      "Non-trainable params: 0\n",
      "_________________________________________________________________\n"
     ]
    }
   ],
   "source": [
    "model.summary()"
   ]
  },
  {
   "cell_type": "code",
   "execution_count": 178,
   "metadata": {},
   "outputs": [],
   "source": [
    "#from tensorflow.keras.utils import plot_model\n",
    "from keras.utils.vis_utils import plot_model"
   ]
  },
  {
   "cell_type": "code",
   "execution_count": 180,
   "metadata": {
    "scrolled": true
   },
   "outputs": [
    {
     "name": "stdout",
     "output_type": "stream",
     "text": [
      "('Failed to import pydot. You must `pip install pydot` and install graphviz (https://graphviz.gitlab.io/download/), ', 'for `pydotprint` to work.')\n"
     ]
    }
   ],
   "source": [
    "#from tensorflow.keras.utils import plot_model\n",
    "# https://blog.csdn.net/weixin_36407399/article/details/87890230\n",
    "plot_model(model, to_file='model.png', show_shapes=True)\n"
   ]
  },
  {
   "cell_type": "code",
   "execution_count": 30,
   "metadata": {},
   "outputs": [
    {
     "name": "stdout",
     "output_type": "stream",
     "text": [
      "Epoch 1/20\n",
      "1979/1979 [==============================] - 54s 27ms/step - loss: 3.6521 - accuracy: 0.0767 - val_loss: 3.3792 - val_accuracy: 0.1200\n",
      "Epoch 2/20\n",
      "1979/1979 [==============================] - 54s 27ms/step - loss: 3.3172 - accuracy: 0.1443 - val_loss: 3.2990 - val_accuracy: 0.1444\n",
      "Epoch 3/20\n",
      "1979/1979 [==============================] - 54s 27ms/step - loss: 3.2103 - accuracy: 0.1619 - val_loss: 3.1939 - val_accuracy: 0.1733\n",
      "Epoch 4/20\n",
      "1979/1979 [==============================] - 54s 27ms/step - loss: 3.1316 - accuracy: 0.1827 - val_loss: 3.1595 - val_accuracy: 0.1644\n",
      "Epoch 5/20\n",
      "1979/1979 [==============================] - 53s 27ms/step - loss: 3.0505 - accuracy: 0.1967 - val_loss: 3.1117 - val_accuracy: 0.1800\n",
      "Epoch 6/20\n",
      "1979/1979 [==============================] - 52s 26ms/step - loss: 2.9749 - accuracy: 0.2185 - val_loss: 3.1107 - val_accuracy: 0.1511\n",
      "Epoch 7/20\n",
      "1979/1979 [==============================] - 50s 25ms/step - loss: 2.9067 - accuracy: 0.2303 - val_loss: 3.0839 - val_accuracy: 0.1644\n",
      "Epoch 8/20\n",
      "1979/1979 [==============================] - 50s 25ms/step - loss: 2.8303 - accuracy: 0.2502 - val_loss: 3.0822 - val_accuracy: 0.1622\n",
      "Epoch 9/20\n",
      "1979/1979 [==============================] - 51s 26ms/step - loss: 2.7563 - accuracy: 0.2673 - val_loss: 3.0836 - val_accuracy: 0.1889\n",
      "Epoch 10/20\n",
      "1979/1979 [==============================] - 50s 25ms/step - loss: 2.6744 - accuracy: 0.2890 - val_loss: 3.0236 - val_accuracy: 0.2022\n",
      "Epoch 11/20\n",
      "1979/1979 [==============================] - 50s 25ms/step - loss: 2.6092 - accuracy: 0.3047 - val_loss: 3.0458 - val_accuracy: 0.1667\n",
      "Epoch 12/20\n",
      "1979/1979 [==============================] - 49s 25ms/step - loss: 2.5173 - accuracy: 0.3264 - val_loss: 3.0401 - val_accuracy: 0.1822\n",
      "Epoch 13/20\n",
      "1979/1979 [==============================] - 54s 27ms/step - loss: 2.4267 - accuracy: 0.3495 - val_loss: 3.0164 - val_accuracy: 0.2000\n",
      "Epoch 14/20\n",
      "1979/1979 [==============================] - 51s 26ms/step - loss: 2.3333 - accuracy: 0.3771 - val_loss: 3.0908 - val_accuracy: 0.1911\n",
      "Epoch 15/20\n",
      "1979/1979 [==============================] - 55s 28ms/step - loss: 2.2164 - accuracy: 0.4069 - val_loss: 3.1153 - val_accuracy: 0.1956\n",
      "Epoch 16/20\n",
      "1979/1979 [==============================] - 57s 29ms/step - loss: 2.1031 - accuracy: 0.4389 - val_loss: 3.0912 - val_accuracy: 0.1844\n",
      "Epoch 17/20\n",
      "1979/1979 [==============================] - 56s 28ms/step - loss: 1.9622 - accuracy: 0.4798 - val_loss: 3.1277 - val_accuracy: 0.1822\n",
      "Epoch 18/20\n",
      "1979/1979 [==============================] - 60s 30ms/step - loss: 1.8381 - accuracy: 0.5174 - val_loss: 3.1675 - val_accuracy: 0.1667\n",
      "Epoch 19/20\n",
      "1979/1979 [==============================] - 59s 30ms/step - loss: 1.7087 - accuracy: 0.5529 - val_loss: 3.2328 - val_accuracy: 0.1822\n",
      "Epoch 20/20\n",
      "1979/1979 [==============================] - 61s 31ms/step - loss: 1.5632 - accuracy: 0.5976 - val_loss: 3.3219 - val_accuracy: 0.1889\n"
     ]
    }
   ],
   "source": [
    "t1=time.time()\n",
    "history = model.fit(X_train, Y_train, validation_data=(X_val, Y_val), epochs=20)\n",
    "t2=time.time()\n",
    "# Save the model.\n",
    "model.save(\"lenet5_model.h5\")"
   ]
  },
  {
   "cell_type": "code",
   "execution_count": 31,
   "metadata": {},
   "outputs": [
    {
     "name": "stdout",
     "output_type": "stream",
     "text": [
      "dict_keys(['loss', 'accuracy', 'val_loss', 'val_accuracy'])\n"
     ]
    }
   ],
   "source": [
    "history_dict = history.history\n",
    "print(history_dict.keys())"
   ]
  },
  {
   "cell_type": "code",
   "execution_count": 32,
   "metadata": {},
   "outputs": [
    {
     "name": "stdout",
     "output_type": "stream",
     "text": [
      "\n",
      "Plot of training error over 20 epochs:\n"
     ]
    },
    {
     "data": {
      "image/png": "[encoded data removed]",
      "text/plain": [
       "<Figure size 432x288 with 1 Axes>"
      ]
     },
     "metadata": {
      "needs_background": "light"
     },
     "output_type": "display_data"
    }
   ],
   "source": [
    "# Plot training error.\n",
    "print('\\nPlot of training error over 20 epochs:')\n",
    "plt.title('Training error')\n",
    "plt.ylabel('Cost')\n",
    "plt.xlabel('epoch')\n",
    "\n",
    "plt.plot(history.history['loss'])\n",
    "plt.plot(history.history['val_loss'])\n",
    "plt.legend(['train loss', 'val loss'], loc='upper right')\n",
    "plt.show()"
   ]
  },
  {
   "cell_type": "code",
   "execution_count": 188,
   "metadata": {},
   "outputs": [
    {
     "name": "stdout",
     "output_type": "stream",
     "text": [
      "\n",
      "Plot of training accuracy over 20 epochs:\n"
     ]
    },
    {
     "data": {
      "image/png": "[encoded data removed]",
      "text/plain": [
       "<Figure size 432x288 with 1 Axes>"
      ]
     },
     "metadata": {
      "needs_background": "light"
     },
     "output_type": "display_data"
    }
   ],
   "source": [
    "# Plot training error.\n",
    "print('\\nPlot of training accuracy over 20 epochs:')\n",
    "plt.title('Training accuracy')\n",
    "plt.ylabel('accuracy')\n",
    "plt.xlabel('epoch')\n",
    "\n",
    "plt.plot(history.history['accuracy'])\n",
    "plt.plot(history.history['val_accuracy'])\n",
    "plt.legend(['train accuracy', 'val accuracy'], loc='upper right')\n",
    "plt.show()"
   ]
  },
  {
   "cell_type": "code",
   "execution_count": 186,
   "metadata": {},
   "outputs": [
    {
     "name": "stdout",
     "output_type": "stream",
     "text": [
      "Test set error rate: 0.0577778\n"
     ]
    }
   ],
   "source": [
    "# Restore the model.\n",
    "model = tf.keras.models.load_model('lenet5_model.h5')\n",
    "\n",
    "# Make prediction.\n",
    "predictions = model.predict(X_test)\n",
    "\n",
    "# Retrieve predictions indexes.\n",
    "y_pred = np.argmax(predictions, axis=1)\n",
    "\n",
    "# Print test set accuracy.\n",
    "print('Test set error rate: {:.6}'.format(np.mean(y_pred == Y_test0)))"
   ]
  },
  {
   "cell_type": "code",
   "execution_count": 193,
   "metadata": {},
   "outputs": [
    {
     "name": "stdout",
     "output_type": "stream",
     "text": [
      "15/15 [==============================] - 0s 7ms/step - loss: 4.7033 - accuracy: 0.0578\n"
     ]
    }
   ],
   "source": [
    "test_preds = model.evaluate(X_test,Y_test)"
   ]
  },
  {
   "cell_type": "code",
   "execution_count": 195,
   "metadata": {},
   "outputs": [
    {
     "name": "stdout",
     "output_type": "stream",
     "text": [
      "Test loss=4.703296661376953\n",
      "Test accuracy=0.057777777314186096\n"
     ]
    }
   ],
   "source": [
    "test_preds\n",
    "print(\"Test loss=\"+str(test_preds[0]))\n",
    "print(\"Test accuracy=\"+str(test_preds[1]))"
   ]
  },
  {
   "cell_type": "code",
   "execution_count": 199,
   "metadata": {},
   "outputs": [],
   "source": [
    "# def accuracy(predicted, t ):\n",
    "#     accuracy = np.mean(t==predicted) \n",
    "#     return accuracy"
   ]
  },
  {
   "cell_type": "code",
   "execution_count": 198,
   "metadata": {},
   "outputs": [],
   "source": [
    "# accuracy = accuracy(y_pred, Y_test0 )\n",
    "# accuracy"
   ]
  },
  {
   "cell_type": "code",
   "execution_count": 197,
   "metadata": {},
   "outputs": [],
   "source": [
    "# X_test0 = np.transpose(X_test,(0,3,1,2))\n",
    "# X_test0.shape"
   ]
  },
  {
   "cell_type": "code",
   "execution_count": 159,
   "metadata": {},
   "outputs": [],
   "source": [
    "# def plot_example(X, y, y_pred=None):\n",
    "#     \"\"\"\n",
    "#     展示9个训练样本及其各自类别\n",
    "#     Parameters:\n",
    "#     -X: 训练样本\n",
    "#     -y: 真实标签\n",
    "#     -y_pred: 预测标签\n",
    "#     \"\"\"\n",
    "#     # 3*3的显示阵列\n",
    "#     fig,axes = plt.subplots(3, 3)\n",
    "#     fig.subplots_adjust(hspace=0.3, wspace=0.3)\n",
    "\n",
    "#     X,y=X[:9, ..., :], y[:9] \n",
    "#     #X = np.transpose(X,(0,3,1,2))\n",
    "#     mean, std = X_test.mean(), X_test.std()\n",
    "#     #print(mean, std)\n",
    "    \n",
    "#     #X = np.transpose(X,(2, 0, 1))\n",
    "    \n",
    "#     for i, ax in enumerate(axes.flat):\n",
    "#         # Plot image.\n",
    "#         #X[i] = np.transpose(X[i],(2, 0, 1))\n",
    "#         #print((X[i]*std + mean).shape)\n",
    "#         #ax[idx].imshow(cv2.cvtColor(vactor, cv2.COLOR_BGR2RGB))\n",
    "#         ax.imshow((X[i]*std + mean))\n",
    "\n",
    "#         # Show true and predicted classes.\n",
    "#         if y_pred is None:\n",
    "#             xlabel = \"True: {0}\".format(y[i])\n",
    "#         else:\n",
    "#           # 显示预测结果\n",
    "#             xlabel = \"True: {0}, Pred: {1}\".format(y[i], y_pred[i])\n",
    "\n",
    "#         # Show the classes as the label on the x-axis.\n",
    "#         ax.set_xlabel(xlabel)\n",
    "\n",
    "#         # Remove ticks from the plot.\n",
    "#         ax.set_xticks([])\n",
    "#         ax.set_yticks([])\n",
    "#     # Ensure the plot is shown correctly with multiple plots in a single Notebook cell.\n",
    "#     plt.show()\n"
   ]
  },
  {
   "cell_type": "code",
   "execution_count": 160,
   "metadata": {},
   "outputs": [],
   "source": [
    "# def plot_example_errors(X, y, y_pred):\n",
    "#     \"\"\"\n",
    "#     Plots 9 example errors and their associate true/predicted labels.\n",
    "#     Parameters:\n",
    "#     -X: Training examples.\n",
    "#     -y: true labels.\n",
    "#     -y_pred: predicted labels.\n",
    "    \n",
    "#     \"\"\"\n",
    "#     incorrect = (y != y_pred)\n",
    "#     X = X[incorrect]\n",
    "#     y = y[incorrect]\n",
    "#     y_pred = y_pred[incorrect]\n",
    "\n",
    "#     # Plot the first 9 images.\n",
    "#     plot_example(X, y, y_pred)\n"
   ]
  },
  {
   "cell_type": "code",
   "execution_count": 162,
   "metadata": {},
   "outputs": [],
   "source": [
    "# import cv2"
   ]
  },
  {
   "cell_type": "code",
   "execution_count": 196,
   "metadata": {},
   "outputs": [],
   "source": [
    "# # Restore the model.\n",
    "# model = tf.keras.models.load_model('lenet5_model.h5')\n",
    "\n",
    "# # Make prediction.\n",
    "# predictions = model.predict(X_test)\n",
    "\n",
    "# # Retrieve predictions indexes.\n",
    "# y_pred = np.argmax(predictions, axis=1)\n",
    "\n",
    "# # Print test set accuracy.\n",
    "# print('Test set error rate: {:.6}'.format(np.mean(y_pred == Y_test0)))\n",
    "\n",
    "# # Plot some examples with model predictions.\n",
    "# print('\\nSome correct classification:')\n",
    "# plot_example(X_test, Y_test0, y_pred)\n",
    "\n",
    "# # print('\\nSome incorrect classification:')\n",
    "# # plot_example_errors(X_test, Y_test0, y_pred)\n",
    "\n"
   ]
  },
  {
   "cell_type": "code",
   "execution_count": null,
   "metadata": {},
   "outputs": [],
   "source": []
  }
 ],
 "metadata": {
  "kernelspec": {
   "display_name": "Python 3",
   "language": "python",
   "name": "python3"
  },
  "language_info": {
   "codemirror_mode": {
    "name": "ipython",
    "version": 3
   },
   "file_extension": ".py",
   "mimetype": "text/x-python",
   "name": "python",
   "nbconvert_exporter": "python",
   "pygments_lexer": "ipython3",
   "version": "3.8.5"
  }
 },
 "nbformat": 4,
 "nbformat_minor": 4
}
