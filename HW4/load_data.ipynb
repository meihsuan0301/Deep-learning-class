{
 "cells": [
  {
   "cell_type": "code",
   "execution_count": 1,
   "metadata": {},
   "outputs": [],
   "source": [
    "import numpy as np\n",
    "import cv2\n",
    "#from matplotlib import pyplot as plt\n",
    "#from torchvision import datasets ,models,transforms\n",
    "import os\n",
    "#import matplotlib.image as img\n",
    "\n",
    "#from torch.utils.data import Dataset, DataLoader\n",
    "#from torch.nn import Linear, ReLU, CrossEntropyLoss, Conv2d, MaxPool2d, Module\n",
    "#from torch.optim import Adam\n",
    "#import torch\n",
    "#import torch.nn as nn\n",
    "#import torch.nn.functional as F\n",
    "#from torch.nn.modules.module import Module\n",
    "\n",
    "import pickle\n",
    "import math\n",
    "#import app\n",
    "import tqdm\n",
    "from tqdm import trange"
   ]
  },
  {
   "cell_type": "markdown",
   "metadata": {},
   "source": [
    "# Data"
   ]
  },
  {
   "cell_type": "code",
   "execution_count": 2,
   "metadata": {},
   "outputs": [],
   "source": [
    "#讀取train、validation、test\n",
    "f = open(\"../train.txt\")\n",
    "train_txt = f.readlines()\n",
    "f.close()\n",
    "f = open(\"../val.txt\")\n",
    "val_txt = f.readlines()\n",
    "f.close()\n",
    "f = open(\"../test.txt\")\n",
    "test_txt = f.readlines()\n",
    "f.close()"
   ]
  },
  {
   "cell_type": "code",
   "execution_count": 3,
   "metadata": {},
   "outputs": [],
   "source": [
    "def readpic(p):\n",
    "    #return mpimg.imread(p)\n",
    "    return cv2.imread(p)\n",
    "\n",
    "def showpic(pic):\n",
    "    plt.imshow(pic)\n",
    "    plt.show()\n",
    "\n",
    "def more_showpic(pic_list):\n",
    "    fig,ax = plt.subplots(1,5,figsize = (15,3))\n",
    "    for idx, vactor in enumerate(pic_list[:5]):\n",
    "        #ax[idx].imshow(vactor)\n",
    "        ax[idx].imshow(cv2.cvtColor(vactor, cv2.COLOR_BGR2RGB))"
   ]
  },
  {
   "cell_type": "code",
   "execution_count": 4,
   "metadata": {},
   "outputs": [],
   "source": [
    "#train image\n",
    "train_img_path = []\n",
    "train_img_label = []\n",
    "for img_path in train_txt:\n",
    "    train_path , train_label = img_path.split( )\n",
    "    train_img_path.append(train_path)\n",
    "    train_img_label.append(train_label)\n",
    "#validation image   \n",
    "val_img_path = []\n",
    "val_img_label = []\n",
    "for img_path in val_txt:\n",
    "    val_path , val_label = img_path.split( )\n",
    "    val_img_path.append(val_path)\n",
    "    val_img_label.append(val_label)\n",
    "#test image     \n",
    "test_img_path = []\n",
    "test_img_label = []\n",
    "for img_path in test_txt:\n",
    "    test_path , test_label = img_path.split( )\n",
    "    test_img_path.append(test_path)\n",
    "    test_img_label.append(test_label)"
   ]
  },
  {
   "cell_type": "code",
   "execution_count": 5,
   "metadata": {},
   "outputs": [],
   "source": [
    "train = []\n",
    "val = []\n",
    "test = []\n",
    "i = 0\n",
    "for train_path in train_img_path:\n",
    "    train.append(readpic('../'+train_path))\n",
    "        \n",
    "for val_path, test_path in zip(val_img_path, test_img_path):\n",
    "    val.append(readpic('../'+val_path))\n",
    "    test.append(readpic('../'+test_path))"
   ]
  },
  {
   "cell_type": "code",
   "execution_count": 6,
   "metadata": {},
   "outputs": [
    {
     "data": {
      "text/plain": [
       "63325"
      ]
     },
     "execution_count": 6,
     "metadata": {},
     "output_type": "execute_result"
    }
   ],
   "source": [
    "len(train)"
   ]
  },
  {
   "cell_type": "code",
   "execution_count": 11,
   "metadata": {},
   "outputs": [
    {
     "name": "stderr",
     "output_type": "stream",
     "text": [
      "<ipython-input-11-6b6d02c08b18>:1: VisibleDeprecationWarning: Creating an ndarray from ragged nested sequences (which is a list-or-tuple of lists-or-tuples-or ndarrays with different lengths or shapes) is deprecated. If you meant to do this, you must specify 'dtype=object' when creating the ndarray\n",
      "  X_train = np.array(train)\n",
      "<ipython-input-11-6b6d02c08b18>:2: VisibleDeprecationWarning: Creating an ndarray from ragged nested sequences (which is a list-or-tuple of lists-or-tuples-or ndarrays with different lengths or shapes) is deprecated. If you meant to do this, you must specify 'dtype=object' when creating the ndarray\n",
      "  X_val = np.array(val)\n",
      "<ipython-input-11-6b6d02c08b18>:3: VisibleDeprecationWarning: Creating an ndarray from ragged nested sequences (which is a list-or-tuple of lists-or-tuples-or ndarrays with different lengths or shapes) is deprecated. If you meant to do this, you must specify 'dtype=object' when creating the ndarray\n",
      "  X_test = np.array(test)\n"
     ]
    }
   ],
   "source": [
    "X_train = np.array(train)\n",
    "X_val = np.array(val)\n",
    "X_test = np.array(test)\n",
    "\n",
    "#X_train, X_val, X_test = X_train/float(255), X_val/float(255), X_test/float(255)\n",
    "# X_train -= np.mean(X_train)\n",
    "# X_val -= np.mean(X_val)\n",
    "# X_test -= np.mean(X_test)\n"
   ]
  },
  {
   "cell_type": "code",
   "execution_count": null,
   "metadata": {},
   "outputs": [],
   "source": []
  },
  {
   "cell_type": "code",
   "execution_count": 12,
   "metadata": {},
   "outputs": [],
   "source": [
    "def resize_image(X, resized_list):\n",
    "    for i in trange(len(X)):\n",
    "        resized_X = cv2.resize(X[i], (64, 64), interpolation=cv2.INTER_AREA)\n",
    "        resized_list.append(resized_X)"
   ]
  },
  {
   "cell_type": "code",
   "execution_count": 13,
   "metadata": {},
   "outputs": [
    {
     "name": "stderr",
     "output_type": "stream",
     "text": [
      "100%|██████████| 63325/63325 [00:19<00:00, 3299.58it/s]\n"
     ]
    }
   ],
   "source": [
    "resized_X_train = []\n",
    "for i in trange(len(X_train)):\n",
    "    resized_X_train0 = cv2.resize(X_train[i], (64, 64), interpolation=cv2.INTER_AREA)\n",
    "    resized_X_train.append(resized_X_train0)"
   ]
  },
  {
   "cell_type": "code",
   "execution_count": 14,
   "metadata": {},
   "outputs": [
    {
     "name": "stderr",
     "output_type": "stream",
     "text": [
      "100%|██████████| 450/450 [00:00<00:00, 2711.41it/s]\n"
     ]
    }
   ],
   "source": [
    "resized_X_val = []\n",
    "resize_image(X_val, resized_X_val)"
   ]
  },
  {
   "cell_type": "code",
   "execution_count": 15,
   "metadata": {},
   "outputs": [
    {
     "name": "stderr",
     "output_type": "stream",
     "text": [
      "100%|██████████| 450/450 [00:00<00:00, 2900.94it/s]\n"
     ]
    }
   ],
   "source": [
    "resized_X_test = []\n",
    "resize_image(X_test, resized_X_test)"
   ]
  },
  {
   "cell_type": "code",
   "execution_count": 16,
   "metadata": {},
   "outputs": [],
   "source": [
    "Y_train = np.array(train_img_label).astype('int64')\n",
    "Y_val = np.array(val_img_label).astype('int64')\n",
    "Y_test = np.array(test_img_label).astype('int64')"
   ]
  },
  {
   "cell_type": "code",
   "execution_count": 17,
   "metadata": {},
   "outputs": [],
   "source": [
    "train = {'train_data':resized_X_train, 'train_label':Y_train}\n",
    "valid = {'valid_data':resized_X_val, 'valid_label':Y_val}\n",
    "test = {'test_data':resized_X_test, 'test_label':Y_test}"
   ]
  },
  {
   "cell_type": "markdown",
   "metadata": {},
   "source": [
    "save data"
   ]
  },
  {
   "cell_type": "code",
   "execution_count": 18,
   "metadata": {},
   "outputs": [],
   "source": [
    "with open('../data_pickle/resized64_train_data256.pickle', 'wb') as f:\n",
    "    pickle.dump(train, f)\n",
    "with open('../data_pickle/resized64_valid_data256.pickle', 'wb') as f:\n",
    "    pickle.dump(valid, f)\n",
    "with open('../data_pickle/resized64_test_data256.pickle', 'wb') as f:\n",
    "    pickle.dump(test, f)"
   ]
  },
  {
   "cell_type": "markdown",
   "metadata": {},
   "source": [
    "load data"
   ]
  },
  {
   "cell_type": "code",
   "execution_count": 39,
   "metadata": {},
   "outputs": [],
   "source": [
    "with open('../data_pickle/resized64_train_data256.pickle', 'rb') as f :\n",
    "    train = pickle.load(f)\n",
    "with open('../data_pickle/resized64_valid_data256.pickle', 'rb') as f :\n",
    "    valid = pickle.load(f)\n",
    "with open('../data_pickle/resized64_test_data256.pickle', 'rb') as f :\n",
    "    test = pickle.load(f)"
   ]
  },
  {
   "cell_type": "code",
   "execution_count": 40,
   "metadata": {},
   "outputs": [],
   "source": [
    "X_train = train['train_data']\n",
    "Y_train = train['train_label']\n",
    "X_val = valid['valid_data']\n",
    "Y_val = valid['valid_label']\n",
    "X_test = test['test_data']\n",
    "Y_test = test['test_label']"
   ]
  },
  {
   "cell_type": "code",
   "execution_count": 41,
   "metadata": {},
   "outputs": [
    {
     "data": {
      "text/plain": [
       "(63325, (64, 64, 3))"
      ]
     },
     "execution_count": 41,
     "metadata": {},
     "output_type": "execute_result"
    }
   ],
   "source": [
    "len(X_train),X_train[0].shape"
   ]
  },
  {
   "cell_type": "code",
   "execution_count": null,
   "metadata": {},
   "outputs": [],
   "source": []
  },
  {
   "cell_type": "code",
   "execution_count": null,
   "metadata": {},
   "outputs": [],
   "source": []
  },
  {
   "cell_type": "code",
   "execution_count": null,
   "metadata": {},
   "outputs": [],
   "source": []
  }
 ],
 "metadata": {
  "kernelspec": {
   "display_name": "Python 3",
   "language": "python",
   "name": "python3"
  },
  "language_info": {
   "codemirror_mode": {
    "name": "ipython",
    "version": 3
   },
   "file_extension": ".py",
   "mimetype": "text/x-python",
   "name": "python",
   "nbconvert_exporter": "python",
   "pygments_lexer": "ipython3",
   "version": "3.8.5"
  }
 },
 "nbformat": 4,
 "nbformat_minor": 4
}
