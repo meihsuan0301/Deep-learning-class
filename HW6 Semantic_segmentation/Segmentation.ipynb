{
 "cells": [
  {
   "cell_type": "markdown",
   "metadata": {},
   "source": [
    "#### 參考資料"
   ]
  },
  {
   "cell_type": "markdown",
   "metadata": {},
   "source": [
    "https://towardsdatascience.com/semantic-hand-segmentation-using-pytorch-3e7a0a0386fa"
   ]
  },
  {
   "cell_type": "markdown",
   "metadata": {},
   "source": [
    "https://github.com/qubvel/segmentation_models.pytorch"
   ]
  },
  {
   "cell_type": "code",
   "execution_count": 92,
   "metadata": {},
   "outputs": [],
   "source": [
    "from torchvision import models\n",
    "import torch.nn as nn\n",
    "import torch.nn.functional as F\n",
    "from torch.utils.data import Dataset\n",
    "import glob\n",
    "from torchvision import transforms\n",
    "from PIL import Image\n",
    "import torch\n",
    "from torch.utils.data import DataLoader\n",
    "from torch import optim\n",
    "import tqdm\n",
    "from torch.nn import Module\n",
    "from torch.nn import Module as module\n",
    "import tqdm\n",
    "\n",
    "import os, cv2, random, shutil\n",
    "import numpy as np\n",
    "import pandas as pd\n",
    "import matplotlib.pyplot as plt\n",
    "import albumentations as albu"
   ]
  },
  {
   "cell_type": "code",
   "execution_count": 93,
   "metadata": {},
   "outputs": [],
   "source": [
    "deeplab = models.segmentation.deeplabv3_resnet50(pretrained=0, \n",
    "                                                 progress=1, \n",
    "                                                 num_classes=10)"
   ]
  },
  {
   "cell_type": "code",
   "execution_count": 94,
   "metadata": {},
   "outputs": [],
   "source": [
    "class SegModel(nn.Module):\n",
    "    def __init__(self):\n",
    "        super(SegModel,self).__init__()\n",
    "        self.dl = deeplab\n",
    "        \n",
    "    def forward(self, x):\n",
    "        y = self.dl(x)['out']\n",
    "        return y"
   ]
  },
  {
   "cell_type": "code",
   "execution_count": 95,
   "metadata": {},
   "outputs": [],
   "source": [
    "class segDataset(Dataset):\n",
    "    \"\"\"CamVid Dataset. Read images, apply augmentation and preprocessing transformations.\n",
    "    \n",
    "    Args:\n",
    "        images_dir (str): path to images folder\n",
    "        masks_dir (str): path to segmentation masks folder\n",
    "        class_values (list): values of classes to extract from segmentation mask\n",
    "        augmentation (albumentations.Compose): data transfromation pipeline \n",
    "            (e.g. flip, scale, etc.)\n",
    "        preprocessing (albumentations.Compose): data preprocessing \n",
    "            (e.g. noralization, shape manipulation, etc.)\n",
    "    \n",
    "    \"\"\"\n",
    "    \n",
    "    def __init__(self, images_dir, masks_dir=None, CLASSES=None, classes=None, augmentation=None, preprocessing=None):\n",
    "        \n",
    "        self.ids = os.listdir(images_dir)\n",
    "        self.ids.sort()\n",
    "        self.images_fps = [os.path.join(images_dir, image_id) for image_id in self.ids]\n",
    "        \n",
    "        if masks_dir:\n",
    "            self.masks_fps = [os.path.join(masks_dir, image_id) for image_id in self.ids]\n",
    "        else:\n",
    "            self.masks_fps = None\n",
    "        \n",
    "        # convert str names to class values on masks\n",
    "        self.class_values = [CLASSES.index(cls.lower()) for cls in classes]\n",
    "        \n",
    "        self.augmentation = augmentation\n",
    "        self.preprocessing = preprocessing\n",
    "    \n",
    "    def __getitem__(self, i):\n",
    "        \n",
    "        # read data\n",
    "        image = cv2.imread(self.images_fps[i])\n",
    "        image = cv2.cvtColor(image, cv2.COLOR_BGR2RGB)\n",
    "        \n",
    "        if self.masks_fps:\n",
    "            mask = cv2.imread(self.masks_fps[i], 0)\n",
    "            \n",
    "            # extract certain classes from mask (e.g. cars)\n",
    "            masks = [(mask == v) for v in self.class_values]\n",
    "            mask = np.stack(masks, axis=-1).astype('float')\n",
    "            \n",
    "            # apply augmentations\n",
    "            if self.augmentation:\n",
    "                sample = self.augmentation(image=image, mask=mask)\n",
    "                image, mask = sample['image'], sample['mask']\n",
    "                \n",
    "            # apply preprocessing\n",
    "            if self.preprocessing:\n",
    "                sample = self.preprocessing(image=image, mask=mask)\n",
    "                image, mask = sample['image'], sample['mask']\n",
    "                \n",
    "            return image, mask\n",
    "        \n",
    "        else:\n",
    "            # apply augmentations\n",
    "            if self.augmentation:\n",
    "                sample = self.augmentation(image=image)\n",
    "                image = sample['image']\n",
    "                \n",
    "            # apply preprocessing\n",
    "            if self.preprocessing:\n",
    "                sample = self.preprocessing(image=image)\n",
    "                image = sample['image']\n",
    "            \n",
    "            return image\n",
    "        \n",
    "        \n",
    "    def __len__(self):\n",
    "        return len(self.ids)"
   ]
  },
  {
   "cell_type": "code",
   "execution_count": 96,
   "metadata": {},
   "outputs": [],
   "source": [
    "import smpgit.segmentation_models_pytorch as smp\n",
    "import args\n",
    "from utils import get_training_augmentation, get_validation_augmentation, get_preprocessing, create_subfolders, fns2subfolders\n",
    "images_dir = './data/rgb_images/'\n",
    "masks_dir = './data/semantic_annotations/semantic_annotations/gtLabels/'\n",
    "CLASSES = ['void', 'road', 'lanemarks', 'curb', 'person', 'rider','vehicles', 'bicycle','motorcycle', 'traffic_sign']\n",
    "preprocessing_fn = smp.encoders.get_preprocessing_fn('se_resnext50_32x4d', 'imagenet')"
   ]
  },
  {
   "cell_type": "code",
   "execution_count": 97,
   "metadata": {},
   "outputs": [],
   "source": [
    "trainDataset = segDataset(images_dir + 'tr/',masks_dir + 'tr/',CLASSES,CLASSES,\n",
    "                          augmentation=get_validation_augmentation(), \n",
    "                          preprocessing=get_preprocessing(preprocessing_fn))\n",
    "validDataset = segDataset(images_dir + 'va/',masks_dir + 'va/',CLASSES,CLASSES,\n",
    "                          augmentation=get_validation_augmentation(), \n",
    "                          preprocessing=get_preprocessing(preprocessing_fn))\n",
    "testDataset = segDataset(images_dir + 'te/',masks_dir + 'te/',CLASSES,CLASSES,\n",
    "                          augmentation=get_validation_augmentation(), \n",
    "                          preprocessing=get_preprocessing(preprocessing_fn))"
   ]
  },
  {
   "cell_type": "code",
   "execution_count": 98,
   "metadata": {},
   "outputs": [],
   "source": [
    "\n",
    "# trainDataset = SegDataset('data', 'rgb_images/tr', 'semantic_annotations/semantic_annotations/gtLabels/tr')\n",
    "# validDataset = SegDataset('data', 'rgb_images/va', 'semantic_annotations/semantic_annotations/gtLabels/va')\n",
    "# testDataset = SegDataset('data', 'rgb_images/te', 'semantic_annotations/semasemantic_annotations/semantic_annotations/gtLabels/trntic_annotations/gtLabels/te')\n"
   ]
  },
  {
   "cell_type": "code",
   "execution_count": 99,
   "metadata": {},
   "outputs": [],
   "source": [
    "batchSize = 2"
   ]
  },
  {
   "cell_type": "code",
   "execution_count": 100,
   "metadata": {},
   "outputs": [],
   "source": [
    "trainLoader = DataLoader(trainDataset, batch_size = batchSize, shuffle=True, drop_last=True)\n",
    "validLoader = DataLoader(validDataset, batch_size = batchSize, shuffle=True, drop_last=True)\n",
    "testLoader = DataLoader(testDataset, batch_size = batchSize, shuffle=True, drop_last=True)\n"
   ]
  },
  {
   "cell_type": "code",
   "execution_count": 101,
   "metadata": {},
   "outputs": [],
   "source": [
    "def meanIOU(target, predicted):\n",
    "    if target.shape != predicted.shape:\n",
    "        print(\"target has dimension\", target.shape, \", predicted values have shape\", predicted.shape)\n",
    "        return\n",
    "        \n",
    "    if target.dim() != 4:\n",
    "        print(\"target has dim\", target.dim(), \", Must be 4.\")\n",
    "        return\n",
    "    \n",
    "    iousum = 0\n",
    "    for i in range(target.shape[0]):\n",
    "        target_arr = target[i, :, :, :].clone().detach().cpu().numpy().argmax(0)\n",
    "        predicted_arr = predicted[i, :, :, :].clone().detach().cpu().numpy().argmax(0)\n",
    "        \n",
    "        intersection = np.logical_and(target_arr, predicted_arr).sum()\n",
    "        union = np.logical_or(target_arr, predicted_arr).sum()\n",
    "        if union == 0:\n",
    "            iou_score = 0\n",
    "        else :\n",
    "            iou_score = intersection / union\n",
    "        iousum +=iou_score\n",
    "        \n",
    "    miou = iousum/target.shape[0]\n",
    "    return miou"
   ]
  },
  {
   "cell_type": "code",
   "execution_count": 102,
   "metadata": {},
   "outputs": [],
   "source": [
    "def pixelAcc(target, predicted):    \n",
    "    if target.shape != predicted.shape:\n",
    "        print(\"target has dimension\", target.shape, \", predicted values have shape\", predicted.shape)\n",
    "        return\n",
    "        \n",
    "    if target.dim() != 4:\n",
    "        print(\"target has dim\", target.dim(), \", Must be 4.\")\n",
    "        return\n",
    "    \n",
    "    accsum=0\n",
    "    for i in range(target.shape[0]):\n",
    "        target_arr = target[i, :, :, :].clone().detach().cpu().numpy().argmax(0)\n",
    "        predicted_arr = predicted[i, :, :, :].clone().detach().cpu().numpy().argmax(0)\n",
    "        \n",
    "        same = (target_arr == predicted_arr).sum()\n",
    "        a, b = target_arr.shape\n",
    "        total = a*b\n",
    "        accsum += same/total\n",
    "    \n",
    "    pixelAccuracy = accsum/target.shape[0]        \n",
    "    return pixelAccuracy"
   ]
  },
  {
   "cell_type": "code",
   "execution_count": 103,
   "metadata": {},
   "outputs": [],
   "source": [
    "\n",
    "model = SegModel()\n",
    "#model = torch.nn.DataParallel(model, device_ids=[2,3])\n",
    "optimizer = optim.Adam(model.parameters(), lr=0.00005)\n",
    "loss_fn = nn.BCEWithLogitsLoss ()\n",
    "lr_scheduler = torch.optim.lr_scheduler.ExponentialLR(optimizer=optimizer, gamma=0.8)"
   ]
  },
  {
   "cell_type": "code",
   "execution_count": 104,
   "metadata": {},
   "outputs": [],
   "source": [
    "def training_loop(n_epochs, optimizer, lr_scheduler, model, loss_fn, train_loader, val_loader, lastCkptPath = None):\n",
    "    if torch.cuda.is_available():  \n",
    "        dev = \"cuda:3\" \n",
    "    else:  \n",
    "        dev = \"cpu\"\n",
    "    device = torch.device(dev)\n",
    "    print(device)\n",
    "    \n",
    "    tr_loss_arr = []\n",
    "    val_loss_arr = []\n",
    "    meanioutrain = []\n",
    "    pixelacctrain = []\n",
    "    meanioutest = []\n",
    "    pixelacctest = []\n",
    "    prevEpoch = 0\n",
    "    \n",
    "    if lastCkptPath != None :\n",
    "        checkpoint = torch.load(lastCkptPath)\n",
    "        prevEpoch = checkpoint['epoch']\n",
    "        model.load_state_dict(checkpoint['state_dict'])\n",
    "        optimizer.load_state_dict(checkpoint['optimizer_state_dict'])\n",
    "        for state in optimizer.state.values():\n",
    "            for k, v in state.items():\n",
    "                if isinstance(v, torch.Tensor):\n",
    "                    state[k] = v.to(device)\n",
    "                    tr_loss_arr =  checkpoint['Training Loss']\n",
    "        val_loss_arr =  checkpoint['Validation Loss']\n",
    "        meanioutrain =  checkpoint['MeanIOU train']\n",
    "        pixelacctrain =  checkpoint['PixelAcc train']\n",
    "        meanioutest =  checkpoint['MeanIOU test']\n",
    "        pixelacctest =  checkpoint['PixelAcc test']\n",
    "        print(\"loaded model, \", checkpoint['description'], \"at epoch\", prevEpoch)\n",
    "    \n",
    "    \n",
    "    \n",
    "    for epoch in range(0, n_epochs):\n",
    "        train_loss = 0.0\n",
    "        pixelacc = 0\n",
    "        meaniou = 0\n",
    "        \n",
    "        pbar = tqdm.tqdm(train_loader, total = len(train_loader))\n",
    "        model.to(device)\n",
    "        for X, y in pbar:\n",
    "            #torch.cuda.empty_cache()\n",
    "            model.to(device).train()\n",
    "            X = X.to(device).float()\n",
    "            y = y.to(device).float()\n",
    "            ypred = model(X).to(device)\n",
    "            loss = loss_fn(ypred, y)\n",
    "            \n",
    "            optimizer.zero_grad()\n",
    "            loss.backward()\n",
    "            optimizer.step()\n",
    "            \n",
    "            tr_loss_arr.append(loss.item())\n",
    "            meanioutrain.append(meanIOU(y, ypred))\n",
    "            pixelacctrain.append(pixelAcc(y, ypred))\n",
    "            pbar.set_postfix({'Epoch':epoch+1+prevEpoch, \n",
    "                              'Training Loss': np.mean(tr_loss_arr),\n",
    "                              'Mean IOU': np.mean(meanioutrain),\n",
    "                              'Pixel Acc': np.mean(pixelacctrain)\n",
    "                             })\n",
    "            \n",
    "        with torch.no_grad():\n",
    "            \n",
    "            val_loss = 0\n",
    "            pbar = tqdm.tqdm(val_loader, total = len(val_loader))\n",
    "            for X, y in pbar:\n",
    "                #torch.cuda.empty_cache()\n",
    "                X = X.to(device).float()\n",
    "                y = y.to(device).float()\n",
    "                model.eval()\n",
    "                ypred = model(X)\n",
    "                \n",
    "                val_loss_arr.append(loss_fn(ypred, y).item())\n",
    "                pixelacctest.append(pixelAcc(y, ypred))\n",
    "                meanioutest.append(meanIOU(y, ypred))\n",
    "                \n",
    "                pbar.set_postfix({'Epoch':epoch+1+prevEpoch, \n",
    "                                  'Validation Loss': np.mean(val_loss_arr),\n",
    "                                  'Mean IOU': np.mean(meanioutest),\n",
    "                                  'Pixel Acc': np.mean(pixelacctest)\n",
    "                                 })\n",
    "        \n",
    "        \n",
    "        \n",
    "        checkpoint = {\n",
    "            'epoch':epoch+1+prevEpoch,\n",
    "            'description':\"add your description\",\n",
    "            'state_dict': model.state_dict(),\n",
    "            'optimizer_state_dict': optimizer.state_dict(),\n",
    "            'Training Loss': tr_loss_arr,\n",
    "            'Validation Loss':val_loss_arr,\n",
    "            'MeanIOU train':meanioutrain, \n",
    "            'PixelAcc train':pixelacctrain, \n",
    "            'MeanIOU test':meanioutest, \n",
    "            'PixelAcc test':pixelacctest\n",
    "        }\n",
    "        torch.save(checkpoint, 'checkpoints/checkpointhandseg'+str(epoch+1+prevEpoch)+'.pt')\n",
    "        lr_scheduler.step()\n",
    "        \n",
    "    return tr_loss_arr, val_loss_arr, meanioutrain, pixelacctrain, meanioutest, pixelacctest"
   ]
  },
  {
   "cell_type": "code",
   "execution_count": null,
   "metadata": {},
   "outputs": [],
   "source": []
  },
  {
   "cell_type": "code",
   "execution_count": 105,
   "metadata": {},
   "outputs": [],
   "source": [
    "#lastCkptPath = 'checkpoints/checkpointhandseg6.pt'\n",
    "# import os\n",
    "# os.getcwd()"
   ]
  },
  {
   "cell_type": "code",
   "execution_count": 106,
   "metadata": {},
   "outputs": [
    {
     "name": "stdout",
     "output_type": "stream",
     "text": [
      "./checkpoints/checkpointhandseg18.pt\n"
     ]
    }
   ],
   "source": [
    "# 取最新的 checkpoints\n",
    "import glob\n",
    "import os\n",
    "\n",
    "list_of_files = glob.glob('./checkpoints/*') # * means all if need specific format then *.csv\n",
    "lastCkptPath = max(list_of_files, key=os.path.getctime)\n",
    "print(lastCkptPath)"
   ]
  },
  {
   "cell_type": "code",
   "execution_count": 53,
   "metadata": {},
   "outputs": [
    {
     "name": "stdout",
     "output_type": "stream",
     "text": [
      "cuda:3\n"
     ]
    },
    {
     "name": "stderr",
     "output_type": "stream",
     "text": [
      "\r",
      "  0%|          | 0/3293 [00:00<?, ?it/s]"
     ]
    },
    {
     "name": "stdout",
     "output_type": "stream",
     "text": [
      "loaded model,  add your description at epoch 15\n"
     ]
    },
    {
     "name": "stderr",
     "output_type": "stream",
     "text": [
      "100%|██████████| 3293/3293 [1:16:41<00:00,  1.40s/it, Epoch=16, Training Loss=0.00961, Mean IOU=0.962, Pixel Acc=0.982]\n",
      "100%|██████████| 411/411 [05:02<00:00,  1.36it/s, Epoch=16, Validation Loss=0.0157, Mean IOU=0.941, Pixel Acc=0.974]\n",
      " 96%|█████████▌| 3147/3293 [1:13:19<03:28,  1.43s/it, Epoch=17, Training Loss=0.0094, Mean IOU=0.963, Pixel Acc=0.982] IOPub message rate exceeded.\n",
      "The notebook server will temporarily stop sending output\n",
      "to the client in order to avoid crashing it.\n",
      "To change this limit, set the config variable\n",
      "`--NotebookApp.iopub_msg_rate_limit`.\n",
      "\n",
      "Current values:\n",
      "NotebookApp.iopub_msg_rate_limit=1000.0 (msgs/sec)\n",
      "NotebookApp.rate_limit_window=3.0 (secs)\n",
      "\n"
     ]
    }
   ],
   "source": [
    "#call the training loop, \n",
    "#make sure to pass correct checkpoint path, or none if starting with the training\n",
    "\n",
    "retval = training_loop(3, \n",
    "                       optimizer, \n",
    "                       lr_scheduler, \n",
    "                       model, \n",
    "                       loss_fn, \n",
    "                       trainLoader, \n",
    "                       validLoader,\n",
    "                       lastCkptPath)"
   ]
  },
  {
   "cell_type": "code",
   "execution_count": 112,
   "metadata": {},
   "outputs": [
    {
     "name": "stdout",
     "output_type": "stream",
     "text": [
      "cuda:3\n"
     ]
    },
    {
     "name": "stderr",
     "output_type": "stream",
     "text": [
      "\r",
      "  0%|          | 0/3293 [00:00<?, ?it/s]"
     ]
    },
    {
     "name": "stdout",
     "output_type": "stream",
     "text": [
      "loaded model,  add your description at epoch 18\n"
     ]
    },
    {
     "name": "stderr",
     "output_type": "stream",
     "text": [
      "  0%|          | 9/3293 [00:14<1:26:17,  1.58s/it, Epoch=19, Training Loss=0.00919, Mean IOU=0.964, Pixel Acc=0.983]\n"
     ]
    },
    {
     "ename": "KeyboardInterrupt",
     "evalue": "",
     "output_type": "error",
     "traceback": [
      "\u001b[0;31m---------------------------------------------------------------------------\u001b[0m",
      "\u001b[0;31mKeyboardInterrupt\u001b[0m                         Traceback (most recent call last)",
      "\u001b[0;32m<ipython-input-112-cffad6cf7bf2>\u001b[0m in \u001b[0;36m<module>\u001b[0;34m\u001b[0m\n\u001b[0;32m----> 1\u001b[0;31m retval = training_loop(3, \n\u001b[0m\u001b[1;32m      2\u001b[0m                        \u001b[0moptimizer\u001b[0m\u001b[0;34m,\u001b[0m\u001b[0;34m\u001b[0m\u001b[0;34m\u001b[0m\u001b[0m\n\u001b[1;32m      3\u001b[0m                        \u001b[0mlr_scheduler\u001b[0m\u001b[0;34m,\u001b[0m\u001b[0;34m\u001b[0m\u001b[0;34m\u001b[0m\u001b[0m\n\u001b[1;32m      4\u001b[0m                        \u001b[0mmodel\u001b[0m\u001b[0;34m,\u001b[0m\u001b[0;34m\u001b[0m\u001b[0;34m\u001b[0m\u001b[0m\n\u001b[1;32m      5\u001b[0m                        \u001b[0mloss_fn\u001b[0m\u001b[0;34m,\u001b[0m\u001b[0;34m\u001b[0m\u001b[0;34m\u001b[0m\u001b[0m\n",
      "\u001b[0;32m<ipython-input-104-f39d22b5d959>\u001b[0m in \u001b[0;36mtraining_loop\u001b[0;34m(n_epochs, optimizer, lr_scheduler, model, loss_fn, train_loader, val_loader, lastCkptPath)\u001b[0m\n\u001b[1;32m     51\u001b[0m             \u001b[0moptimizer\u001b[0m\u001b[0;34m.\u001b[0m\u001b[0mzero_grad\u001b[0m\u001b[0;34m(\u001b[0m\u001b[0;34m)\u001b[0m\u001b[0;34m\u001b[0m\u001b[0;34m\u001b[0m\u001b[0m\n\u001b[1;32m     52\u001b[0m             \u001b[0mloss\u001b[0m\u001b[0;34m.\u001b[0m\u001b[0mbackward\u001b[0m\u001b[0;34m(\u001b[0m\u001b[0;34m)\u001b[0m\u001b[0;34m\u001b[0m\u001b[0;34m\u001b[0m\u001b[0m\n\u001b[0;32m---> 53\u001b[0;31m             \u001b[0moptimizer\u001b[0m\u001b[0;34m.\u001b[0m\u001b[0mstep\u001b[0m\u001b[0;34m(\u001b[0m\u001b[0;34m)\u001b[0m\u001b[0;34m\u001b[0m\u001b[0;34m\u001b[0m\u001b[0m\n\u001b[0m\u001b[1;32m     54\u001b[0m \u001b[0;34m\u001b[0m\u001b[0m\n\u001b[1;32m     55\u001b[0m             \u001b[0mtr_loss_arr\u001b[0m\u001b[0;34m.\u001b[0m\u001b[0mappend\u001b[0m\u001b[0;34m(\u001b[0m\u001b[0mloss\u001b[0m\u001b[0;34m.\u001b[0m\u001b[0mitem\u001b[0m\u001b[0;34m(\u001b[0m\u001b[0;34m)\u001b[0m\u001b[0;34m)\u001b[0m\u001b[0;34m\u001b[0m\u001b[0;34m\u001b[0m\u001b[0m\n",
      "\u001b[0;32m~/miniconda3/lib/python3.8/site-packages/torch/optim/lr_scheduler.py\u001b[0m in \u001b[0;36mwrapper\u001b[0;34m(*args, **kwargs)\u001b[0m\n\u001b[1;32m     63\u001b[0m                 \u001b[0minstance\u001b[0m\u001b[0;34m.\u001b[0m\u001b[0m_step_count\u001b[0m \u001b[0;34m+=\u001b[0m \u001b[0;36m1\u001b[0m\u001b[0;34m\u001b[0m\u001b[0;34m\u001b[0m\u001b[0m\n\u001b[1;32m     64\u001b[0m                 \u001b[0mwrapped\u001b[0m \u001b[0;34m=\u001b[0m \u001b[0mfunc\u001b[0m\u001b[0;34m.\u001b[0m\u001b[0m__get__\u001b[0m\u001b[0;34m(\u001b[0m\u001b[0minstance\u001b[0m\u001b[0;34m,\u001b[0m \u001b[0mcls\u001b[0m\u001b[0;34m)\u001b[0m\u001b[0;34m\u001b[0m\u001b[0;34m\u001b[0m\u001b[0m\n\u001b[0;32m---> 65\u001b[0;31m                 \u001b[0;32mreturn\u001b[0m \u001b[0mwrapped\u001b[0m\u001b[0;34m(\u001b[0m\u001b[0;34m*\u001b[0m\u001b[0margs\u001b[0m\u001b[0;34m,\u001b[0m \u001b[0;34m**\u001b[0m\u001b[0mkwargs\u001b[0m\u001b[0;34m)\u001b[0m\u001b[0;34m\u001b[0m\u001b[0;34m\u001b[0m\u001b[0m\n\u001b[0m\u001b[1;32m     66\u001b[0m \u001b[0;34m\u001b[0m\u001b[0m\n\u001b[1;32m     67\u001b[0m             \u001b[0;31m# Note that the returned function here is no longer a bound method,\u001b[0m\u001b[0;34m\u001b[0m\u001b[0;34m\u001b[0m\u001b[0;34m\u001b[0m\u001b[0m\n",
      "\u001b[0;32m~/miniconda3/lib/python3.8/site-packages/torch/optim/optimizer.py\u001b[0m in \u001b[0;36mwrapper\u001b[0;34m(*args, **kwargs)\u001b[0m\n\u001b[1;32m     87\u001b[0m                 \u001b[0mprofile_name\u001b[0m \u001b[0;34m=\u001b[0m \u001b[0;34m\"Optimizer.step#{}.step\"\u001b[0m\u001b[0;34m.\u001b[0m\u001b[0mformat\u001b[0m\u001b[0;34m(\u001b[0m\u001b[0mobj\u001b[0m\u001b[0;34m.\u001b[0m\u001b[0m__class__\u001b[0m\u001b[0;34m.\u001b[0m\u001b[0m__name__\u001b[0m\u001b[0;34m)\u001b[0m\u001b[0;34m\u001b[0m\u001b[0;34m\u001b[0m\u001b[0m\n\u001b[1;32m     88\u001b[0m                 \u001b[0;32mwith\u001b[0m \u001b[0mtorch\u001b[0m\u001b[0;34m.\u001b[0m\u001b[0mautograd\u001b[0m\u001b[0;34m.\u001b[0m\u001b[0mprofiler\u001b[0m\u001b[0;34m.\u001b[0m\u001b[0mrecord_function\u001b[0m\u001b[0;34m(\u001b[0m\u001b[0mprofile_name\u001b[0m\u001b[0;34m)\u001b[0m\u001b[0;34m:\u001b[0m\u001b[0;34m\u001b[0m\u001b[0;34m\u001b[0m\u001b[0m\n\u001b[0;32m---> 89\u001b[0;31m                     \u001b[0;32mreturn\u001b[0m \u001b[0mfunc\u001b[0m\u001b[0;34m(\u001b[0m\u001b[0;34m*\u001b[0m\u001b[0margs\u001b[0m\u001b[0;34m,\u001b[0m \u001b[0;34m**\u001b[0m\u001b[0mkwargs\u001b[0m\u001b[0;34m)\u001b[0m\u001b[0;34m\u001b[0m\u001b[0;34m\u001b[0m\u001b[0m\n\u001b[0m\u001b[1;32m     90\u001b[0m             \u001b[0;32mreturn\u001b[0m \u001b[0mwrapper\u001b[0m\u001b[0;34m\u001b[0m\u001b[0;34m\u001b[0m\u001b[0m\n\u001b[1;32m     91\u001b[0m \u001b[0;34m\u001b[0m\u001b[0m\n",
      "\u001b[0;32m~/miniconda3/lib/python3.8/site-packages/torch/autograd/grad_mode.py\u001b[0m in \u001b[0;36mdecorate_context\u001b[0;34m(*args, **kwargs)\u001b[0m\n\u001b[1;32m     25\u001b[0m         \u001b[0;32mdef\u001b[0m \u001b[0mdecorate_context\u001b[0m\u001b[0;34m(\u001b[0m\u001b[0;34m*\u001b[0m\u001b[0margs\u001b[0m\u001b[0;34m,\u001b[0m \u001b[0;34m**\u001b[0m\u001b[0mkwargs\u001b[0m\u001b[0;34m)\u001b[0m\u001b[0;34m:\u001b[0m\u001b[0;34m\u001b[0m\u001b[0;34m\u001b[0m\u001b[0m\n\u001b[1;32m     26\u001b[0m             \u001b[0;32mwith\u001b[0m \u001b[0mself\u001b[0m\u001b[0;34m.\u001b[0m\u001b[0m__class__\u001b[0m\u001b[0;34m(\u001b[0m\u001b[0;34m)\u001b[0m\u001b[0;34m:\u001b[0m\u001b[0;34m\u001b[0m\u001b[0;34m\u001b[0m\u001b[0m\n\u001b[0;32m---> 27\u001b[0;31m                 \u001b[0;32mreturn\u001b[0m \u001b[0mfunc\u001b[0m\u001b[0;34m(\u001b[0m\u001b[0;34m*\u001b[0m\u001b[0margs\u001b[0m\u001b[0;34m,\u001b[0m \u001b[0;34m**\u001b[0m\u001b[0mkwargs\u001b[0m\u001b[0;34m)\u001b[0m\u001b[0;34m\u001b[0m\u001b[0;34m\u001b[0m\u001b[0m\n\u001b[0m\u001b[1;32m     28\u001b[0m         \u001b[0;32mreturn\u001b[0m \u001b[0mcast\u001b[0m\u001b[0;34m(\u001b[0m\u001b[0mF\u001b[0m\u001b[0;34m,\u001b[0m \u001b[0mdecorate_context\u001b[0m\u001b[0;34m)\u001b[0m\u001b[0;34m\u001b[0m\u001b[0;34m\u001b[0m\u001b[0m\n\u001b[1;32m     29\u001b[0m \u001b[0;34m\u001b[0m\u001b[0m\n",
      "\u001b[0;32m~/miniconda3/lib/python3.8/site-packages/torch/optim/adam.py\u001b[0m in \u001b[0;36mstep\u001b[0;34m(self, closure)\u001b[0m\n\u001b[1;32m    106\u001b[0m \u001b[0;34m\u001b[0m\u001b[0m\n\u001b[1;32m    107\u001b[0m             \u001b[0mbeta1\u001b[0m\u001b[0;34m,\u001b[0m \u001b[0mbeta2\u001b[0m \u001b[0;34m=\u001b[0m \u001b[0mgroup\u001b[0m\u001b[0;34m[\u001b[0m\u001b[0;34m'betas'\u001b[0m\u001b[0;34m]\u001b[0m\u001b[0;34m\u001b[0m\u001b[0;34m\u001b[0m\u001b[0m\n\u001b[0;32m--> 108\u001b[0;31m             F.adam(params_with_grad,\n\u001b[0m\u001b[1;32m    109\u001b[0m                    \u001b[0mgrads\u001b[0m\u001b[0;34m,\u001b[0m\u001b[0;34m\u001b[0m\u001b[0;34m\u001b[0m\u001b[0m\n\u001b[1;32m    110\u001b[0m                    \u001b[0mexp_avgs\u001b[0m\u001b[0;34m,\u001b[0m\u001b[0;34m\u001b[0m\u001b[0;34m\u001b[0m\u001b[0m\n",
      "\u001b[0;32m~/miniconda3/lib/python3.8/site-packages/torch/optim/_functional.py\u001b[0m in \u001b[0;36madam\u001b[0;34m(params, grads, exp_avgs, exp_avg_sqs, max_exp_avg_sqs, state_steps, amsgrad, beta1, beta2, lr, weight_decay, eps)\u001b[0m\n\u001b[1;32m     94\u001b[0m         \u001b[0mstep_size\u001b[0m \u001b[0;34m=\u001b[0m \u001b[0mlr\u001b[0m \u001b[0;34m/\u001b[0m \u001b[0mbias_correction1\u001b[0m\u001b[0;34m\u001b[0m\u001b[0;34m\u001b[0m\u001b[0m\n\u001b[1;32m     95\u001b[0m \u001b[0;34m\u001b[0m\u001b[0m\n\u001b[0;32m---> 96\u001b[0;31m         \u001b[0mparam\u001b[0m\u001b[0;34m.\u001b[0m\u001b[0maddcdiv_\u001b[0m\u001b[0;34m(\u001b[0m\u001b[0mexp_avg\u001b[0m\u001b[0;34m,\u001b[0m \u001b[0mdenom\u001b[0m\u001b[0;34m,\u001b[0m \u001b[0mvalue\u001b[0m\u001b[0;34m=\u001b[0m\u001b[0;34m-\u001b[0m\u001b[0mstep_size\u001b[0m\u001b[0;34m)\u001b[0m\u001b[0;34m\u001b[0m\u001b[0;34m\u001b[0m\u001b[0m\n\u001b[0m\u001b[1;32m     97\u001b[0m \u001b[0;34m\u001b[0m\u001b[0m\n\u001b[1;32m     98\u001b[0m \u001b[0;34m\u001b[0m\u001b[0m\n",
      "\u001b[0;31mKeyboardInterrupt\u001b[0m: "
     ]
    }
   ],
   "source": [
    "retval = training_loop(3, \n",
    "                       optimizer, \n",
    "                       lr_scheduler, \n",
    "                       model, \n",
    "                       loss_fn, \n",
    "                       trainLoader, \n",
    "                       validLoader, \n",
    "                       'checkpoints/checkpointhandseg18.pt')"
   ]
  },
  {
   "cell_type": "code",
   "execution_count": 14,
   "metadata": {},
   "outputs": [
    {
     "data": {
      "text/plain": [
       "59274"
      ]
     },
     "execution_count": 14,
     "metadata": {},
     "output_type": "execute_result"
    }
   ],
   "source": [
    "3293*18"
   ]
  },
  {
   "cell_type": "code",
   "execution_count": 3,
   "metadata": {},
   "outputs": [
    {
     "data": {
      "text/plain": [
       "['checkpointhandseg9.pt',\n",
       " 'checkpointhandseg13.pt',\n",
       " 'checkpointhandseg4.pt',\n",
       " 'checkpointhandseg5.pt',\n",
       " 'checkpointhandseg1.pt',\n",
       " 'checkpointhandseg14.pt',\n",
       " 'checkpointhandseg12.pt',\n",
       " 'checkpointhandseg2.pt',\n",
       " 'checkpointhandseg10.pt',\n",
       " 'checkpointhandseg17.pt',\n",
       " 'checkpointhandseg15.pt',\n",
       " 'checkpointhandseg16.pt',\n",
       " 'checkpointhandseg11.pt',\n",
       " 'checkpointhandseg18.pt',\n",
       " 'checkpointhandseg7.pt',\n",
       " 'checkpointhandseg3.pt',\n",
       " 'checkpointhandseg8.pt',\n",
       " 'checkpointhandseg6.pt']"
      ]
     },
     "execution_count": 3,
     "metadata": {},
     "output_type": "execute_result"
    }
   ],
   "source": [
    "os.listdir('./checkpoints/')"
   ]
  },
  {
   "cell_type": "code",
   "execution_count": 6,
   "metadata": {},
   "outputs": [],
   "source": [
    "checkpoint = torch.load('./checkpoints/checkpointhandseg18.pt')"
   ]
  },
  {
   "cell_type": "markdown",
   "metadata": {},
   "source": [
    "# 視覺化結果"
   ]
  },
  {
   "cell_type": "code",
   "execution_count": 8,
   "metadata": {},
   "outputs": [
    {
     "data": {
      "text/plain": [
       "dict_keys(['epoch', 'description', 'state_dict', 'optimizer_state_dict', 'Training Loss', 'Validation Loss', 'MeanIOU train', 'PixelAcc train', 'MeanIOU test', 'PixelAcc test'])"
      ]
     },
     "execution_count": 8,
     "metadata": {},
     "output_type": "execute_result"
    }
   ],
   "source": [
    "checkpoint.keys()"
   ]
  },
  {
   "cell_type": "code",
   "execution_count": 58,
   "metadata": {},
   "outputs": [
    {
     "name": "stdout",
     "output_type": "stream",
     "text": [
      "1\n",
      "Training Loss ： 0.0187450865106281\n",
      "Validation Loss ： 0.019508944816406987\n",
      "MeanIOU train ： 0.9292391944822561\n",
      "PixelAcc train ： 0.968029592217619\n",
      "MeanIOU test ： 0.9211534902707004\n",
      "PixelAcc test ： 0.9649669954313445\n",
      "2\n",
      "Training Loss ： 0.016820876189271954\n",
      "Validation Loss ： 0.017454322759195746\n",
      "MeanIOU train ： 0.9348381136329367\n",
      "PixelAcc train ： 0.9706066923089454\n",
      "MeanIOU test ： 0.9303146014757436\n",
      "PixelAcc test ： 0.9686464636053432\n",
      "3\n",
      "Training Loss ： 0.015560437937556825\n",
      "Validation Loss ： 0.016509317461928446\n",
      "MeanIOU train ： 0.938941655471495\n",
      "PixelAcc train ： 0.9724139548340169\n",
      "MeanIOU test ： 0.9329243834745292\n",
      "PixelAcc test ： 0.970136353436236\n",
      "4\n",
      "Training Loss ： 0.014697785295176694\n",
      "Validation Loss ： 0.016022848602953093\n",
      "MeanIOU train ： 0.9418813934349064\n",
      "PixelAcc train ： 0.973693738557931\n",
      "MeanIOU test ： 0.9343960718852756\n",
      "PixelAcc test ： 0.9709397234650564\n",
      "5\n",
      "Training Loss ： 0.013943262645822598\n",
      "Validation Loss ： 0.01562042957344013\n",
      "MeanIOU train ： 0.9446675106907194\n",
      "PixelAcc train ： 0.9748695234022275\n",
      "MeanIOU test ： 0.9363302334029523\n",
      "PixelAcc test ： 0.9717605266248306\n",
      "6\n",
      "Training Loss ： 0.013289227919376933\n",
      "Validation Loss ： 0.01544831332313282\n",
      "MeanIOU train ： 0.9472189094180282\n",
      "PixelAcc train ： 0.9759149908010569\n",
      "MeanIOU test ： 0.9371977744570842\n",
      "PixelAcc test ： 0.9721496523920978\n",
      "7\n",
      "Training Loss ： 0.012742375072216986\n",
      "Validation Loss ： 0.01529538453477935\n",
      "MeanIOU train ： 0.9494061481418598\n",
      "PixelAcc train ： 0.9767954238332683\n",
      "MeanIOU test ： 0.9374303870315933\n",
      "PixelAcc test ： 0.9723841572358342\n",
      "8\n",
      "Training Loss ： 0.012244731995551159\n",
      "Validation Loss ： 0.01522171675876789\n",
      "MeanIOU train ： 0.9514067530407412\n",
      "PixelAcc train ： 0.977589317414581\n",
      "MeanIOU test ： 0.9380537249033825\n",
      "PixelAcc test ： 0.9727253105845871\n",
      "9\n",
      "Training Loss ： 0.011785824760316612\n",
      "Validation Loss ： 0.015216750141208532\n",
      "MeanIOU train ： 0.9532624490538757\n",
      "PixelAcc train ： 0.9783262958036636\n",
      "MeanIOU test ： 0.9387351487272445\n",
      "PixelAcc test ： 0.9730540898839818\n",
      "10\n",
      "Training Loss ： 0.01138277839042157\n",
      "Validation Loss ： 0.01521139979841745\n",
      "MeanIOU train ： 0.9549212953925709\n",
      "PixelAcc train ： 0.9789814681265203\n",
      "MeanIOU test ： 0.939234659955483\n",
      "PixelAcc test ： 0.9733021352623946\n",
      "11\n",
      "Training Loss ： 0.01101483202978165\n",
      "Validation Loss ： 0.015253433731560294\n",
      "MeanIOU train ： 0.9564279568783239\n",
      "PixelAcc train ： 0.9795762115401947\n",
      "MeanIOU test ： 0.9397166120735307\n",
      "PixelAcc test ： 0.9735295861162401\n",
      "12\n",
      "Training Loss ： 0.010675037749387072\n",
      "Validation Loss ： 0.01531730103160127\n",
      "MeanIOU train ： 0.9578365919658308\n",
      "PixelAcc train ： 0.9801306383124622\n",
      "MeanIOU test ： 0.940132281570335\n",
      "PixelAcc test ： 0.9737188836728943\n",
      "13\n",
      "Training Loss ： 0.010373072417954782\n",
      "Validation Loss ： 0.015391053144931416\n",
      "MeanIOU train ： 0.9590783441883639\n",
      "PixelAcc train ： 0.98062084520068\n",
      "MeanIOU test ： 0.9404706915777563\n",
      "PixelAcc test ： 0.9738792271500144\n",
      "14\n",
      "Training Loss ： 0.01009366033265418\n",
      "Validation Loss ： 0.015468701132860321\n",
      "MeanIOU train ： 0.9602336708482666\n",
      "PixelAcc train ： 0.9810764513696641\n",
      "MeanIOU test ： 0.9407755108523562\n",
      "PixelAcc test ： 0.9740181140895279\n",
      "15\n",
      "Training Loss ： 0.00983836759705376\n",
      "Validation Loss ： 0.01556367321987542\n",
      "MeanIOU train ： 0.9612887815866278\n",
      "PixelAcc train ： 0.9814956594455174\n",
      "MeanIOU test ： 0.9410235658496402\n",
      "PixelAcc test ： 0.9741431925270636\n",
      "16\n",
      "Training Loss ： 0.009605671664923834\n",
      "Validation Loss ： 0.015672082460247188\n",
      "MeanIOU train ： 0.9622512851562961\n",
      "PixelAcc train ： 0.9818779725412276\n",
      "MeanIOU test ： 0.9412560719395272\n",
      "PixelAcc test ： 0.9742526276124706\n",
      "17\n",
      "Training Loss ： 0.009391754050753666\n",
      "Validation Loss ： 0.015783933335156767\n",
      "MeanIOU train ： 0.9631409421654742\n",
      "PixelAcc train ： 0.9822315834488361\n",
      "MeanIOU test ： 0.9414449894933676\n",
      "PixelAcc test ： 0.9743501000943855\n",
      "18\n",
      "Training Loss ： 0.009193803867103395\n",
      "Validation Loss ： 0.01589454323294814\n",
      "MeanIOU train ： 0.9639649130791713\n",
      "PixelAcc train ： 0.9825599784171494\n",
      "MeanIOU test ： 0.941634963681336\n",
      "PixelAcc test ： 0.9744385231737026\n"
     ]
    }
   ],
   "source": [
    "Training_Loss = []\n",
    "Validation_Loss = []\n",
    "MeanIOU_train = []\n",
    "PixelAcc_train = []\n",
    "MeanIOU_test = []\n",
    "PixelAcc_test = []\n",
    "\n",
    "for j in range(1,19):\n",
    "    checkpoint = torch.load('./checkpoints/checkpointhandseg{}.pt'.format(j))\n",
    "    print(checkpoint['epoch'])\n",
    "    \n",
    "    for num, i in enumerate(checkpoint.keys()):\n",
    "        if num >=4:\n",
    "            print(i,'：',np.mean(checkpoint[i]))\n",
    "            if num == 4:\n",
    "                Training_Loss.append(np.mean(checkpoint[i]))\n",
    "            elif num == 5:\n",
    "                Validation_Loss.append(np.mean(checkpoint[i]))\n",
    "            elif num == 6:\n",
    "                MeanIOU_train.append(np.mean(checkpoint[i]))\n",
    "            elif num == 7:\n",
    "                PixelAcc_train.append(np.mean(checkpoint[i]))\n",
    "            elif num == 8:\n",
    "                MeanIOU_test.append(np.mean(checkpoint[i]))\n",
    "            elif num == 9:\n",
    "                PixelAcc_test.append(np.mean(checkpoint[i]))\n",
    "\n"
   ]
  },
  {
   "cell_type": "code",
   "execution_count": 89,
   "metadata": {},
   "outputs": [],
   "source": [
    "# Training_Loss\n",
    "# Validation_Loss\n",
    "# MeanIOU_train\n",
    "# PixelAcc_train\n",
    "# MeanIOU_test\n",
    "# PixelAcc_test\n",
    "\n",
    "# plt.plot(MeanIOU_test)\n",
    "# plt.title('MeanIOU_test',fontsize=14)\n",
    "# plt.xlabel('epoch')"
   ]
  },
  {
   "cell_type": "code",
   "execution_count": 83,
   "metadata": {},
   "outputs": [
    {
     "data": {
      "image/png": "[encoded data removed]",
      "text/plain": [
       "<Figure size 720x288 with 2 Axes>"
      ]
     },
     "metadata": {
      "needs_background": "light"
     },
     "output_type": "display_data"
    }
   ],
   "source": [
    "f = plt.figure(figsize=(10,4))\n",
    "\n",
    "plt.subplot(1,2,1)\n",
    "plt.plot(Training_Loss)\n",
    "plt.title('Training_Loss',fontsize=14)\n",
    "plt.xlabel('epoch')\n",
    "\n",
    "plt.subplot(1,2,2)\n",
    "plt.plot(checkpoint['Training Loss'])\n",
    "plt.title('Training Loss',fontsize=14)\n",
    "plt.xlabel('iteration')\n",
    "plt.show()"
   ]
  },
  {
   "cell_type": "code",
   "execution_count": 88,
   "metadata": {},
   "outputs": [
    {
     "data": {
      "text/plain": [
       "Text(0.5, 0, 'iteration')"
      ]
     },
     "execution_count": 88,
     "metadata": {},
     "output_type": "execute_result"
    },
    {
     "data": {
      "image/png": "[encoded data removed]",
      "text/plain": [
       "<Figure size 720x288 with 2 Axes>"
      ]
     },
     "metadata": {
      "needs_background": "light"
     },
     "output_type": "display_data"
    }
   ],
   "source": [
    "f = plt.figure(figsize=(10,4))\n",
    "\n",
    "plt.subplot(1,2,1)\n",
    "plt.plot(Validation_Loss)\n",
    "plt.title('Validation_Loss',fontsize=14)\n",
    "plt.xlabel('epoch')\n",
    "\n",
    "plt.subplot(1,2,2)\n",
    "plt.plot(checkpoint['Validation Loss'])\n",
    "plt.title('Validation Loss',fontsize=14)\n",
    "plt.xlabel('iteration')"
   ]
  },
  {
   "cell_type": "code",
   "execution_count": 84,
   "metadata": {},
   "outputs": [
    {
     "data": {
      "text/plain": [
       "Text(0.5, 0, 'iteration')"
      ]
     },
     "execution_count": 84,
     "metadata": {},
     "output_type": "execute_result"
    },
    {
     "data": {
      "image/png": "[encoded data removed]",
      "text/plain": [
       "<Figure size 720x288 with 2 Axes>"
      ]
     },
     "metadata": {
      "needs_background": "light"
     },
     "output_type": "display_data"
    }
   ],
   "source": [
    "f = plt.figure(figsize=(10,4))\n",
    "\n",
    "plt.subplot(1,2,1)\n",
    "plt.plot(MeanIOU_train)\n",
    "plt.title('MeanIOU_train',fontsize=14)\n",
    "plt.xlabel('epoch')\n",
    "\n",
    "plt.subplot(1,2,2)\n",
    "plt.plot(checkpoint['MeanIOU train'])\n",
    "plt.title('MeanIOU train',fontsize=14)\n",
    "plt.xlabel('iteration')"
   ]
  },
  {
   "cell_type": "code",
   "execution_count": 87,
   "metadata": {},
   "outputs": [
    {
     "data": {
      "text/plain": [
       "Text(0.5, 0, 'iteration')"
      ]
     },
     "execution_count": 87,
     "metadata": {},
     "output_type": "execute_result"
    },
    {
     "data": {
      "image/png": "[encoded data removed]",
      "text/plain": [
       "<Figure size 720x288 with 2 Axes>"
      ]
     },
     "metadata": {
      "needs_background": "light"
     },
     "output_type": "display_data"
    }
   ],
   "source": [
    "f = plt.figure(figsize=(10,4))\n",
    "\n",
    "plt.subplot(1,2,1)\n",
    "plt.plot(PixelAcc_train)\n",
    "plt.title('PixelAcc_train',fontsize=14)\n",
    "plt.xlabel('epoch')\n",
    "\n",
    "plt.subplot(1,2,2)\n",
    "plt.plot(checkpoint['PixelAcc train'])\n",
    "plt.title('PixelAcc train',fontsize=14)\n",
    "plt.xlabel('iteration')"
   ]
  },
  {
   "cell_type": "code",
   "execution_count": 85,
   "metadata": {},
   "outputs": [
    {
     "data": {
      "text/plain": [
       "Text(0.5, 0, 'iteration')"
      ]
     },
     "execution_count": 85,
     "metadata": {},
     "output_type": "execute_result"
    },
    {
     "data": {
      "image/png": "[encoded data removed]",
      "text/plain": [
       "<Figure size 720x288 with 2 Axes>"
      ]
     },
     "metadata": {
      "needs_background": "light"
     },
     "output_type": "display_data"
    }
   ],
   "source": [
    "f = plt.figure(figsize=(10,4))\n",
    "\n",
    "plt.subplot(1,2,1)\n",
    "plt.plot(MeanIOU_test)\n",
    "plt.title('MeanIOU_test',fontsize=14)\n",
    "plt.xlabel('epoch')\n",
    "\n",
    "plt.subplot(1,2,2)\n",
    "plt.plot(checkpoint['MeanIOU test'])\n",
    "plt.title('MeanIOU test',fontsize=14)\n",
    "plt.xlabel('iteration')"
   ]
  },
  {
   "cell_type": "code",
   "execution_count": 86,
   "metadata": {},
   "outputs": [
    {
     "data": {
      "text/plain": [
       "Text(0.5, 0, 'iteration')"
      ]
     },
     "execution_count": 86,
     "metadata": {},
     "output_type": "execute_result"
    },
    {
     "data": {
      "image/png": "[encoded data removed]",
      "text/plain": [
       "<Figure size 720x288 with 2 Axes>"
      ]
     },
     "metadata": {
      "needs_background": "light"
     },
     "output_type": "display_data"
    }
   ],
   "source": [
    "f = plt.figure(figsize=(10,4))\n",
    "\n",
    "plt.subplot(1,2,1)\n",
    "plt.plot(PixelAcc_test)\n",
    "plt.title('PixelAcc_test',fontsize=14)\n",
    "plt.xlabel('epoch')\n",
    "\n",
    "plt.subplot(1,2,2)\n",
    "plt.plot(checkpoint['PixelAcc test'])\n",
    "plt.title('PixelAcc test',fontsize=14)\n",
    "plt.xlabel('iteration')"
   ]
  },
  {
   "cell_type": "code",
   "execution_count": 120,
   "metadata": {},
   "outputs": [],
   "source": [
    "#can pass np array or path to image file\n",
    "def Segmentimage(pathtest):\n",
    "    \n",
    "    if isinstance(pathtest, np.ndarray):\n",
    "        img = Image.fromarray(pathtest)\n",
    "    else :\n",
    "        img = Image.open(pathtest)\n",
    "    \n",
    "    preprocess = transforms.Compose([transforms.Resize((288, 384), 2),\n",
    "                                     transforms.ToTensor(),\n",
    "                                     transforms.Normalize(mean=[0.485, 0.456, 0.406], std=[0.229, 0.224, 0.225])])\n",
    "    Xtest = preprocess(img)\n",
    "    \n",
    "    checkpoint = torch.load('checkpoints/checkpointhandseg7.pt')\n",
    "    model = SegModel()\n",
    "    model.load_state_dict(checkpoint['state_dict'])\n",
    "    with torch.no_grad():\n",
    "        model.eval()\n",
    "        if torch.cuda.is_available():\n",
    "            dev = \"cuda:0\" \n",
    "        else:  \n",
    "            dev = \"cpu\"\n",
    "        device = torch.device(dev)\n",
    "        model.to(device)\n",
    "        Xtest = Xtest.to(device).float()\n",
    "        ytest = model(Xtest.unsqueeze(0).float())\n",
    "        ypos = ytest[0, 1, :, :].clone().detach().cpu().numpy()\n",
    "        yneg = ytest[0, 0, :, :].clone().detach().cpu().numpy()\n",
    "        ytest = ypos >= yneg\n",
    "    \n",
    "    mask = ytest.astype('float32')\n",
    "    kernel = cv2.getStructuringElement(cv2.MORPH_ELLIPSE,(5,5))\n",
    "    mask = cv2.dilate(mask,kernel,iterations = 2)\n",
    "    mask = cv2.morphologyEx(mask, cv2.MORPH_CLOSE, kernel)\n",
    "    mask = cv2.morphologyEx(mask, cv2.MORPH_OPEN, kernel)\n",
    "    return mask"
   ]
  },
  {
   "cell_type": "code",
   "execution_count": 121,
   "metadata": {},
   "outputs": [],
   "source": [
    "def getcoloredMask(image, mask):\n",
    "    color_mask = np.zeros_like(image)\n",
    "    color_mask[:, :, 1] += mask.astype('uint8') * 250\n",
    "    masked = cv2.addWeighted(image, 1.0, color_mask, 1.0, 0.0)\n",
    "    return masked"
   ]
  },
  {
   "cell_type": "code",
   "execution_count": 132,
   "metadata": {},
   "outputs": [
    {
     "ename": "error",
     "evalue": "OpenCV(4.5.2) /tmp/pip-req-build-itd46xp8/opencv/modules/highgui/src/window.cpp:679: error: (-2:Unspecified error) The function is not implemented. Rebuild the library with Windows, GTK+ 2.x or Cocoa support. If you are on Ubuntu or Debian, install libgtk2.0-dev and pkg-config, then re-run cmake or configure script in function 'cvShowImage'\n",
     "output_type": "error",
     "traceback": [
      "\u001b[0;31m---------------------------------------------------------------------------\u001b[0m",
      "\u001b[0;31merror\u001b[0m                                     Traceback (most recent call last)",
      "\u001b[0;32m<ipython-input-132-2b7b5424e42c>\u001b[0m in \u001b[0;36m<module>\u001b[0;34m\u001b[0m\n\u001b[1;32m     20\u001b[0m         \u001b[0mcolmask\u001b[0m \u001b[0;34m=\u001b[0m \u001b[0mgetcoloredMask\u001b[0m\u001b[0;34m(\u001b[0m\u001b[0mframe\u001b[0m\u001b[0;34m,\u001b[0m \u001b[0mmask\u001b[0m\u001b[0;34m)\u001b[0m\u001b[0;34m\u001b[0m\u001b[0;34m\u001b[0m\u001b[0m\n\u001b[1;32m     21\u001b[0m \u001b[0;34m\u001b[0m\u001b[0m\n\u001b[0;32m---> 22\u001b[0;31m     \u001b[0mcv2\u001b[0m\u001b[0;34m.\u001b[0m\u001b[0mimshow\u001b[0m\u001b[0;34m(\u001b[0m\u001b[0;34m'color'\u001b[0m\u001b[0;34m,\u001b[0m \u001b[0mnp\u001b[0m\u001b[0;34m.\u001b[0m\u001b[0mhstack\u001b[0m\u001b[0;34m(\u001b[0m\u001b[0;34m(\u001b[0m\u001b[0mframe\u001b[0m\u001b[0;34m,\u001b[0m \u001b[0mcolmask\u001b[0m\u001b[0;34m)\u001b[0m\u001b[0;34m)\u001b[0m\u001b[0;34m)\u001b[0m\u001b[0;34m\u001b[0m\u001b[0;34m\u001b[0m\u001b[0m\n\u001b[0m\u001b[1;32m     23\u001b[0m     \u001b[0;31m#cv2.imshow('color', np.hstack((frame, colmask)))\u001b[0m\u001b[0;34m\u001b[0m\u001b[0;34m\u001b[0m\u001b[0;34m\u001b[0m\u001b[0m\n\u001b[1;32m     24\u001b[0m     \u001b[0mkey\u001b[0m \u001b[0;34m=\u001b[0m \u001b[0mcv2\u001b[0m\u001b[0;34m.\u001b[0m\u001b[0mwaitKey\u001b[0m\u001b[0;34m(\u001b[0m\u001b[0;36m24\u001b[0m\u001b[0;34m)\u001b[0m\u001b[0;34m\u001b[0m\u001b[0;34m\u001b[0m\u001b[0m\n",
      "\u001b[0;31merror\u001b[0m: OpenCV(4.5.2) /tmp/pip-req-build-itd46xp8/opencv/modules/highgui/src/window.cpp:679: error: (-2:Unspecified error) The function is not implemented. Rebuild the library with Windows, GTK+ 2.x or Cocoa support. If you are on Ubuntu or Debian, install libgtk2.0-dev and pkg-config, then re-run cmake or configure script in function 'cvShowImage'\n"
     ]
    }
   ],
   "source": [
    "images_dir = './data/rgb_images(test_set)'\n",
    "ids = os.listdir(images_dir)\n",
    "ids.sort()\n",
    "images_fps = [os.path.join(images_dir, image_id) for image_id in ids]\n",
    "#masks_fps = [os.path.join(masks_dir, image_id) for image_id in ids]\n",
    "\n",
    "        \n",
    "# read data\n",
    "image = cv2.imread(images_fps[i])\n",
    "image = cv2.cvtColor(image, cv2.COLOR_BGR2RGB)\n",
    "i = 0\n",
    "while(True):\n",
    "    ret, frame = cap.read()\n",
    "    \n",
    "    frame = cv2.resize(image, (384,288))\n",
    "    rgb = cv2.cvtColor(image, cv2.COLOR_BGR2RGB)\n",
    "    if i%5 == 0:\n",
    "        i=0\n",
    "        mask = Segmentimage(rgb)\n",
    "        colmask = getcoloredMask(frame, mask)\n",
    "    \n",
    "    cv2.imshow('color', np.hstack((frame, colmask)))\n",
    "    #cv2.imshow('color', np.hstack((frame, colmask)))\n",
    "    key = cv2.waitKey(24)\n",
    "    if key & 0xFF == ord('q'):\n",
    "        break\n",
    "    i+=1\n",
    "#cap.release()\n",
    "cv2.destroyAllWindows()"
   ]
  },
  {
   "cell_type": "code",
   "execution_count": 126,
   "metadata": {},
   "outputs": [
    {
     "data": {
      "text/plain": [
       "array([[0., 0., 0., ..., 0., 0., 0.],\n",
       "       [0., 0., 0., ..., 0., 0., 0.],\n",
       "       [0., 0., 0., ..., 0., 0., 0.],\n",
       "       ...,\n",
       "       [0., 0., 0., ..., 0., 0., 0.],\n",
       "       [0., 0., 0., ..., 0., 0., 0.],\n",
       "       [0., 0., 0., ..., 0., 0., 0.]], dtype=float32)"
      ]
     },
     "execution_count": 126,
     "metadata": {},
     "output_type": "execute_result"
    }
   ],
   "source": [
    "mask"
   ]
  },
  {
   "cell_type": "code",
   "execution_count": 133,
   "metadata": {},
   "outputs": [
    {
     "data": {
      "text/plain": [
       "6930"
      ]
     },
     "execution_count": 133,
     "metadata": {},
     "output_type": "execute_result"
    }
   ],
   "source": [
    "3465+3465\n"
   ]
  },
  {
   "cell_type": "code",
   "execution_count": null,
   "metadata": {},
   "outputs": [],
   "source": []
  }
 ],
 "metadata": {
  "kernelspec": {
   "display_name": "Python 3",
   "language": "python",
   "name": "python3"
  },
  "language_info": {
   "codemirror_mode": {
    "name": "ipython",
    "version": 3
   },
   "file_extension": ".py",
   "mimetype": "text/x-python",
   "name": "python",
   "nbconvert_exporter": "python",
   "pygments_lexer": "ipython3",
   "version": "3.8.5"
  }
 },
 "nbformat": 4,
 "nbformat_minor": 4
}
