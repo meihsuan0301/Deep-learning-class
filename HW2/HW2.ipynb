{
 "cells": [
  {
   "cell_type": "code",
   "execution_count": 9,
   "metadata": {},
   "outputs": [],
   "source": [
    "import numpy as np\n",
    "import cv2\n",
    "from matplotlib import pyplot as plt\n",
    "from torchvision import datasets ,models,transforms\n",
    "import os\n",
    "import matplotlib.image as img\n",
    "\n",
    "from torch.utils.data import Dataset, DataLoader\n",
    "#from torch.nn import Linear, ReLU, CrossEntropyLoss, Conv2d, MaxPool2d, Module\n",
    "from torch.optim import Adam\n",
    "import torch\n",
    "import torch.nn as nn\n",
    "import torch.nn.functional as F\n",
    "from torch.nn.modules.module import Module\n",
    "\n",
    "import pickle"
   ]
  },
  {
   "cell_type": "code",
   "execution_count": 179,
   "metadata": {},
   "outputs": [],
   "source": [
    "import math"
   ]
  },
  {
   "cell_type": "markdown",
   "metadata": {},
   "source": [
    "# Q1"
   ]
  },
  {
   "cell_type": "code",
   "execution_count": 271,
   "metadata": {},
   "outputs": [],
   "source": [
    "a=np.array([1,2,3]).reshape(1,-1)  \n",
    "b=np.array([4,5,6]).reshape(-1, 1)  \n",
    "c=2\n",
    "d=np.array([1,1,2]).reshape(-1, 1)  \n",
    "y_target=np.array([1, 1, 1]).reshape(-1, 1)"
   ]
  },
  {
   "cell_type": "code",
   "execution_count": 267,
   "metadata": {},
   "outputs": [],
   "source": [
    "y = 1 / np.exp((np.dot(a,b) + c) * d)"
   ]
  },
  {
   "cell_type": "code",
   "execution_count": 268,
   "metadata": {},
   "outputs": [
    {
     "data": {
      "text/plain": [
       "(array([[32]]),\n",
       " array([[34]]),\n",
       " array([[34],\n",
       "        [34],\n",
       "        [68]]),\n",
       " array([[5.83461743e+14],\n",
       "        [5.83461743e+14],\n",
       "        [3.40427605e+29]]),\n",
       " array([[1.71390843e-15],\n",
       "        [1.71390843e-15],\n",
       "        [2.93748211e-30]]))"
      ]
     },
     "execution_count": 268,
     "metadata": {},
     "output_type": "execute_result"
    }
   ],
   "source": [
    "a1 = np.dot(a,b)\n",
    "a2 = a1 + c\n",
    "a3 = a2 * d\n",
    "a4 = np.exp(a3)\n",
    "a5 = 1/a4\n",
    "a1,a2,a3,a4,a5"
   ]
  },
  {
   "cell_type": "code",
   "execution_count": 269,
   "metadata": {},
   "outputs": [
    {
     "data": {
      "text/plain": [
       "((3, 1),\n",
       " (1, 3),\n",
       " array([[4],\n",
       "        [5],\n",
       "        [6]]))"
      ]
     },
     "execution_count": 269,
     "metadata": {},
     "output_type": "execute_result"
    }
   ],
   "source": [
    "grad_a1.shape,a.shape,b"
   ]
  },
  {
   "cell_type": "code",
   "execution_count": 275,
   "metadata": {},
   "outputs": [
    {
     "data": {
      "text/plain": [
       "array([[34]])"
      ]
     },
     "execution_count": 275,
     "metadata": {},
     "output_type": "execute_result"
    }
   ],
   "source": [
    "a2"
   ]
  },
  {
   "cell_type": "code",
   "execution_count": 276,
   "metadata": {},
   "outputs": [
    {
     "data": {
      "text/plain": [
       "(array([[-6.85563373e-15],\n",
       "        [-8.56954216e-15],\n",
       "        [-3.52497853e-29]]),\n",
       " array([[-1.71390843e-15],\n",
       "        [-3.42781686e-15],\n",
       "        [-1.76248927e-29]]),\n",
       " array([[-1.71390843e-15],\n",
       "        [-1.71390843e-15],\n",
       "        [-5.87496422e-30]]),\n",
       " array([[-5.82728867e-14],\n",
       "        [-5.82728867e-14],\n",
       "        [-9.98743918e-29]]),\n",
       " array([[-1.71390843e-15],\n",
       "        [-1.71390843e-15],\n",
       "        [-5.87496422e-30]]),\n",
       " array([[-1.71390843e-15],\n",
       "        [-1.71390843e-15],\n",
       "        [-5.87496422e-30]]),\n",
       " array([[-1.71390843e-15],\n",
       "        [-1.71390843e-15],\n",
       "        [-2.93748211e-30]]),\n",
       " array([[-2.93748211e-30],\n",
       "        [-2.93748211e-30],\n",
       "        [-8.62880116e-60]]),\n",
       " array([[1],\n",
       "        [1],\n",
       "        [1]]))"
      ]
     },
     "execution_count": 276,
     "metadata": {},
     "output_type": "execute_result"
    }
   ],
   "source": [
    "grad_y_pred =  y_target\n",
    "grad_a4 = grad_y_pred * (-1/pow(a4, 2))\n",
    "grad_a3 = grad_a4 * np.exp(a3)\n",
    "grad_a2 = grad_a3 * d\n",
    "grad_d = grad_a3 * a2\n",
    "grad_a1 = grad_a2 * 1\n",
    "grad_c = grad_a2 * 1\n",
    "grad_b = grad_a1 * a.T\n",
    "grad_a = grad_a1 * b\n",
    "grad_a, grad_b,grad_c,grad_d,grad_a1,grad_a2,grad_a3,grad_a4,grad_y_pred"
   ]
  },
  {
   "cell_type": "code",
   "execution_count": 137,
   "metadata": {},
   "outputs": [],
   "source": [
    "def forword(a, b, c, d):\n",
    "    \n",
    "    a1 = np.dot(a,b)\n",
    "    a2 = a1 + c\n",
    "    a3 = a2 * d\n",
    "    a4 = np.exp(a3)\n",
    "    a5 = 1/a4\n",
    "    \n",
    "    return a5"
   ]
  },
  {
   "cell_type": "code",
   "execution_count": 138,
   "metadata": {},
   "outputs": [],
   "source": [
    "def backward(self, y, t, a, b, c, d):\n",
    "    grad = {}\n",
    "    grad_y_pred = y - y_target\n",
    "    grad_a4 = grad_y_pred * (-1/a4^2)\n",
    "    grad_a3 = grad_a4 * np.exp(a3)\n",
    "    grad_a2 = grad_a3 * d\n",
    "    grad_d = grad_a3 * a2\n",
    "    grad_a1 = grad_a2 * 1\n",
    "    grad_c = grad_a2 * 1\n",
    "    grad_b = grad_a1 * a\n",
    "    grad_a = grad_a1 * b\n",
    "    \n",
    "    grad['grad_a'] = grad_a\n",
    "    grad['grad_b'] = grad_b\n",
    "    grad['grad_c'] = grad_c\n",
    "    grad['grad_d'] = grad_d\n",
    "    return grad"
   ]
  },
  {
   "cell_type": "code",
   "execution_count": 277,
   "metadata": {},
   "outputs": [],
   "source": [
    "class perceptron():\n",
    "    def __init__(self, a,b,c,d):\n",
    "        self.parameters = {}\n",
    "        self.parameters['a'] = a\n",
    "        self.parameters['b'] = b\n",
    "        self.parameters['c'] = c\n",
    "        self.parameters['d'] = d\n",
    "    def forward(self, a, b, c, d):\n",
    "        a1 = np.dot(a,b)\n",
    "        a2 = a1 + c\n",
    "        a3 = a2 * d\n",
    "        a4 = np.exp(a3)\n",
    "        a5 = 1/a4\n",
    "        return y, a3, a4\n",
    "    \n",
    "    def backward(self, y, y_target, a, b, c, d, a3, a4 ):\n",
    "        grad = {}\n",
    "        grad_y_pred = y - y_target\n",
    "        grad_a4 = grad_y_pred * (-1/pow(a4, 2))\n",
    "        grad_a3 = grad_a4 * np.exp(a3)\n",
    "        grad_a2 = grad_a3 * d\n",
    "        grad_d = grad_a3 * a2\n",
    "        grad_a1 = grad_a2 * 1\n",
    "        grad_c = grad_a2 * 1\n",
    "        grad_b = grad_a1 * a\n",
    "        grad_a = grad_a1 * b\n",
    "\n",
    "        grad['grad_a'] = grad_a\n",
    "        grad['grad_b'] = grad_b\n",
    "        grad['grad_c'] = grad_c\n",
    "        grad['grad_d'] = grad_d\n",
    "        return grad\n",
    "    \n",
    "    def train(self, a, b, c, d, y_target, learning_rate=0.05):\n",
    "        y,a3, a4 = self.forward(a, b, c, d)\n",
    "        loss = -np.mean(abs(y_target - y))\n",
    "        grad = self.backward(y, y_target, a, b, c, d, a3, a4)\n",
    "        self.parameters['a'] = self.parameters['a'] - learning_rate * grad['grad_a']\n",
    "        self.parameters['b'] = self.parameters['b'] - learning_rate * grad['grad_b']\n",
    "        self.parameters['c'] = self.parameters['c'] - learning_rate * grad['grad_c']\n",
    "        self.parameters['d'] = self.parameters['d'] - learning_rate * grad['grad_d']\n",
    "        return loss"
   ]
  },
  {
   "cell_type": "code",
   "execution_count": 278,
   "metadata": {},
   "outputs": [],
   "source": [
    "run = perceptron(a,b,c,d)"
   ]
  },
  {
   "cell_type": "code",
   "execution_count": 310,
   "metadata": {},
   "outputs": [
    {
     "data": {
      "text/plain": [
       "-0.9999999999999988"
      ]
     },
     "execution_count": 310,
     "metadata": {},
     "output_type": "execute_result"
    }
   ],
   "source": [
    "loss = run.train(a=a, b=b, c=c, d=d, y_target=y_target, learning_rate=0.05)\n",
    "loss"
   ]
  },
  {
   "cell_type": "markdown",
   "metadata": {},
   "source": [
    "# Q2"
   ]
  },
  {
   "cell_type": "markdown",
   "metadata": {},
   "source": [
    "# load data"
   ]
  },
  {
   "cell_type": "code",
   "execution_count": 10,
   "metadata": {},
   "outputs": [],
   "source": [
    "# CPU or GPU\n",
    "device = torch.device('cuda:0' if torch.cuda.is_available() else 'cpu')\n",
    "device\n",
    "device='cpu'"
   ]
  },
  {
   "cell_type": "code",
   "execution_count": 11,
   "metadata": {},
   "outputs": [],
   "source": [
    "#讀取train、validation、test\n",
    "f = open(\"../train.txt\")\n",
    "train_txt = f.readlines()\n",
    "f.close()\n",
    "f = open(\"../val.txt\")\n",
    "val_txt = f.readlines()\n",
    "f.close()\n",
    "f = open(\"../test.txt\")\n",
    "test_txt = f.readlines()\n",
    "f.close()"
   ]
  },
  {
   "cell_type": "code",
   "execution_count": 12,
   "metadata": {},
   "outputs": [],
   "source": [
    "def readpic(p):\n",
    "    #return mpimg.imread(p)\n",
    "    return cv2.imread(p)\n",
    "\n",
    "def showpic(pic):\n",
    "    plt.imshow(pic)\n",
    "    plt.show()\n",
    "\n",
    "def more_showpic(pic_list):\n",
    "    fig,ax = plt.subplots(1,5,figsize = (15,3))\n",
    "    for idx, vactor in enumerate(pic_list[:5]):\n",
    "        #ax[idx].imshow(vactor)\n",
    "        ax[idx].imshow(cv2.cvtColor(vactor, cv2.COLOR_BGR2RGB))"
   ]
  },
  {
   "cell_type": "code",
   "execution_count": 13,
   "metadata": {},
   "outputs": [],
   "source": [
    "#train image\n",
    "train_img_path = []\n",
    "train_img_label = []\n",
    "for img_path in train_txt:\n",
    "    train_path , train_label = img_path.split( )\n",
    "    train_img_path.append(train_path)\n",
    "    train_img_label.append(train_label)\n",
    "#validation image   \n",
    "val_img_path = []\n",
    "val_img_label = []\n",
    "for img_path in val_txt:\n",
    "    val_path , val_label = img_path.split( )\n",
    "    val_img_path.append(val_path)\n",
    "    val_img_label.append(val_label)\n",
    "#test image     \n",
    "test_img_path = []\n",
    "test_img_label = []\n",
    "for img_path in test_txt:\n",
    "    test_path , test_label = img_path.split( )\n",
    "    test_img_path.append(test_path)\n",
    "    test_img_label.append(test_label)"
   ]
  },
  {
   "cell_type": "code",
   "execution_count": 14,
   "metadata": {},
   "outputs": [],
   "source": [
    "train = []\n",
    "val = []\n",
    "test = []\n",
    "i = 0\n",
    "for train_path in train_img_path:\n",
    "    train.append(readpic('../'+train_path))\n",
    "        \n",
    "for val_path, test_path in zip(val_img_path, test_img_path):\n",
    "    val.append(readpic('../'+val_path))\n",
    "    test.append(readpic('../'+test_path))"
   ]
  },
  {
   "cell_type": "markdown",
   "metadata": {},
   "source": [
    "# make feature"
   ]
  },
  {
   "cell_type": "code",
   "execution_count": 15,
   "metadata": {},
   "outputs": [],
   "source": [
    "#取所有圖的rbg gray數量\n",
    "color = ('b','g','r')\n",
    "red_train = []\n",
    "blue_train = []\n",
    "green_train = []\n",
    "gray_train = []\n",
    "for pic in train:\n",
    "    histr_blue = cv2.calcHist([pic],[0],None,[256],[0,256])\n",
    "    histr_green = cv2.calcHist([pic],[1],None,[256],[0,256])\n",
    "    histr_red = cv2.calcHist([pic],[2],None,[256],[0,256])\n",
    "    gray = cv2.cvtColor(pic, cv2.COLOR_BGR2GRAY)\n",
    "    gray,_ = np.histogram(gray.ravel(), 256, [0,256])\n",
    "    blue_train.append(histr_blue)\n",
    "    green_train.append(histr_green)\n",
    "    red_train.append(histr_red)\n",
    "    gray_train.append(gray)"
   ]
  },
  {
   "cell_type": "code",
   "execution_count": 16,
   "metadata": {},
   "outputs": [],
   "source": [
    "blue_train = np.array(blue_train)\n",
    "green_train = np.array(green_train)\n",
    "red_train = np.array(red_train)\n",
    "gray_train = np.array(gray_train)\n",
    "train_data = np.concatenate((red_train.squeeze(2), green_train.squeeze(2), blue_train.squeeze(2), gray_train), axis=1)"
   ]
  },
  {
   "cell_type": "code",
   "execution_count": 17,
   "metadata": {},
   "outputs": [],
   "source": [
    "#取所有圖的rbg gray數量\n",
    "color = ('b','g','r')\n",
    "red_valid = []\n",
    "blue_valid = []\n",
    "green_valid = []\n",
    "gray_valid = []\n",
    "for pic in val:\n",
    "    histr_blue = cv2.calcHist([pic],[0],None,[256],[0,256])\n",
    "    histr_green = cv2.calcHist([pic],[1],None,[256],[0,256])\n",
    "    histr_red = cv2.calcHist([pic],[2],None,[256],[0,256])\n",
    "    gray = cv2.cvtColor(pic, cv2.COLOR_BGR2GRAY)\n",
    "    gray,_ = np.histogram(gray.ravel(), 256, [0,256])\n",
    "    blue_valid.append(histr_blue)\n",
    "    green_valid.append(histr_green)\n",
    "    red_valid.append(histr_red)\n",
    "    gray_valid.append(gray)"
   ]
  },
  {
   "cell_type": "code",
   "execution_count": 18,
   "metadata": {},
   "outputs": [],
   "source": [
    "blue_valid = np.array(blue_valid)\n",
    "green_valid = np.array(green_valid)\n",
    "red_valid = np.array(red_valid)\n",
    "gray_valid = np.array(gray_valid)\n",
    "valid_data = np.concatenate((red_valid.squeeze(2), green_valid.squeeze(2), blue_valid.squeeze(2), gray_valid), axis=1)"
   ]
  },
  {
   "cell_type": "code",
   "execution_count": 19,
   "metadata": {},
   "outputs": [],
   "source": [
    "#取所有圖的rbg gray數量\n",
    "color = ('b','g','r')\n",
    "red_test = []\n",
    "blue_test = []\n",
    "green_test = []\n",
    "gray_test = []\n",
    "for pic in test:\n",
    "    histr_blue = cv2.calcHist([pic],[0],None,[256],[0,256])\n",
    "    histr_green = cv2.calcHist([pic],[1],None,[256],[0,256])\n",
    "    histr_red = cv2.calcHist([pic],[2],None,[256],[0,256])\n",
    "    gray = cv2.cvtColor(pic, cv2.COLOR_BGR2GRAY)\n",
    "    gray,_ = np.histogram(gray.ravel(), 256, [0,256])\n",
    "    blue_test.append(histr_blue)\n",
    "    green_test.append(histr_green)\n",
    "    red_test.append(histr_red)\n",
    "    gray_test.append(gray)"
   ]
  },
  {
   "cell_type": "code",
   "execution_count": 20,
   "metadata": {},
   "outputs": [],
   "source": [
    "blue_test = np.array(blue_test)\n",
    "green_test = np.array(green_test)\n",
    "red_test = np.array(red_test)\n",
    "gray_test = np.array(gray_test)\n",
    "test_data = np.concatenate((red_test.squeeze(2), green_test.squeeze(2), blue_test.squeeze(2), gray_test), axis=1)"
   ]
  },
  {
   "cell_type": "code",
   "execution_count": 25,
   "metadata": {},
   "outputs": [],
   "source": [
    "train_label_ML =np.array(train_img_label)\n",
    "valid_label_ML =np.array(val_img_label)\n",
    "test_label_ML =np.array(test_img_label)\n",
    "train_label_ML = train_label_ML.astype('int64')\n",
    "valid_label_ML = valid_label_ML.astype('int64')\n",
    "test_label_ML = test_label_ML.astype('int64')"
   ]
  },
  {
   "cell_type": "code",
   "execution_count": 26,
   "metadata": {},
   "outputs": [],
   "source": [
    "train = {'train_data':train_data, 'train_label':train_label_ML}\n",
    "valid = {'valid_data':valid_data, 'valid_label':valid_label_ML}\n",
    "test = {'test_data':test_data, 'test_label':test_label_ML}"
   ]
  },
  {
   "cell_type": "markdown",
   "metadata": {},
   "source": [
    "# Save Feature"
   ]
  },
  {
   "cell_type": "code",
   "execution_count": 28,
   "metadata": {},
   "outputs": [],
   "source": [
    "with open('../data_pickle/train_data_RGBG.pickle', 'wb') as f:\n",
    "    pickle.dump(train, f)\n",
    "with open('../data_pickle/valid_data_RGBG.pickle', 'wb') as f:\n",
    "    pickle.dump(valid, f)\n",
    "with open('../data_pickle/test_data_RGBG.pickle', 'wb') as f:\n",
    "    pickle.dump(test, f)"
   ]
  },
  {
   "cell_type": "markdown",
   "metadata": {},
   "source": [
    "# Load Feature"
   ]
  },
  {
   "cell_type": "code",
   "execution_count": 304,
   "metadata": {},
   "outputs": [],
   "source": [
    "with open('../data_pickle/train_data_RGBG.pickle', 'rb') as f :\n",
    "    train = pickle.load(f)\n",
    "with open('../data_pickle/valid_data_RGBG.pickle', 'rb') as f :\n",
    "    valid = pickle.load(f)\n",
    "with open('../data_pickle/test_data_RGBG.pickle', 'rb') as f :\n",
    "    test = pickle.load(f)"
   ]
  },
  {
   "cell_type": "code",
   "execution_count": 315,
   "metadata": {},
   "outputs": [],
   "source": [
    "train_data = train['train_data']\n",
    "train_label_ML = train['train_label']\n",
    "valid_data = valid['valid_data']\n",
    "valid_label_ML = valid['valid_label']\n",
    "test_data = test['test_data']\n",
    "test_label_ML = test['test_label']"
   ]
  },
  {
   "cell_type": "code",
   "execution_count": null,
   "metadata": {},
   "outputs": [],
   "source": []
  },
  {
   "cell_type": "code",
   "execution_count": 247,
   "metadata": {},
   "outputs": [],
   "source": [
    "Z = W1.dot(x) + b1\n",
    "A = softmax(Z)\n",
    "\n",
    "n = x.shape[0]\n",
    "dZ = A - y_target\n",
    "dW = dZ.dot(x.T) / n\n",
    "db = np.sum(dZ, axis=1, keepdims=True) / n"
   ]
  },
  {
   "cell_type": "markdown",
   "metadata": {},
   "source": [
    "# Two Layer NN Model"
   ]
  },
  {
   "cell_type": "code",
   "execution_count": 281,
   "metadata": {},
   "outputs": [],
   "source": [
    "import numpy as np\n",
    "from layers import *\n",
    "from gradient import numerical_gradient\n",
    "from collections import OrderedDict"
   ]
  },
  {
   "cell_type": "code",
   "execution_count": 312,
   "metadata": {},
   "outputs": [],
   "source": [
    "class TwoLayerNet:\n",
    "\n",
    "    def __init__(self, input_size, hidden_size, output_size, weight_init_std = 0.01):\n",
    "       \n",
    "        self.params = {}\n",
    "        self.params['W1'] = weight_init_std * np.random.randn(input_size, hidden_size)\n",
    "        self.params['b1'] = np.zeros(hidden_size)\n",
    "        self.params['W2'] = weight_init_std * np.random.randn(hidden_size, output_size) \n",
    "        self.params['b2'] = np.zeros(output_size)\n",
    "\n",
    "        # \n",
    "        self.layers = OrderedDict()\n",
    "        self.layers['Affine1'] = Affine(self.params['W1'], self.params['b1'])\n",
    "        self.layers['Affine2'] = Affine(self.params['W2'], self.params['b2'])\n",
    "        self.lastLayer = SoftmaxWithLoss()\n",
    "    \n",
    "    \n",
    "    def predict(self, x):\n",
    "        for layer in self.layers.values():\n",
    "            x = layer.forward(x)\n",
    "        \n",
    "        return x\n",
    "        \n",
    "    def loss(self, x, t):\n",
    "        y = self.predict(x)\n",
    "        return self.lastLayer.forward(y, t)\n",
    "    \n",
    "    def accuracy(self, x, t, k ):\n",
    "        y = self.predict(x)\n",
    "        y_hat_k = y.argsort(axis=0).T[:,-k:]\n",
    "        #y = np.argmax(y, axis=1)\n",
    "        #if t.ndim != 1 : t = np.argmax(t, axis=1)\n",
    "        accuracy = np.sum(y == t) / float(x.shape[0])\n",
    "        #y = np.argmax(y, axis=1)\n",
    "        #t = np.argmax(t, axis=1)\n",
    "        accuracy = (y_hat_k.any() == t).sum() / float(x.shape[0])        \n",
    "        return accuracy\n",
    "\n",
    "\n",
    "    def numerical_gradient(self, x, t):\n",
    "        loss_W = lambda W: self.loss(x, t)\n",
    "        \n",
    "        grads = {}\n",
    "        grads['W1'] = numerical_gradient(loss_W, self.params['W1'])\n",
    "        grads['b1'] = numerical_gradient(loss_W, self.params['b1'])\n",
    "        grads['W2'] = numerical_gradient(loss_W, self.params['W2'])\n",
    "        grads['b2'] = numerical_gradient(loss_W, self.params['b2'])\n",
    "        \n",
    "        return grads\n",
    "        \n",
    "    def gradient(self, x, t):\n",
    "        # forward\n",
    "        self.loss(x, t)\n",
    "\n",
    "        # backward\n",
    "        dout = 1\n",
    "        dout = self.lastLayer.backward(dout)\n",
    "        \n",
    "        layers = list(self.layers.values())\n",
    "        layers.reverse()\n",
    "        for layer in layers:\n",
    "            dout = layer.backward(dout)\n",
    "\n",
    "        # 設定\n",
    "        grads = {}\n",
    "        grads['W1'], grads['b1'] = self.layers['Affine1'].dW, self.layers['Affine1'].db\n",
    "        grads['W2'], grads['b2'] = self.layers['Affine2'].dW, self.layers['Affine2'].db\n",
    "\n",
    "        return grads"
   ]
  },
  {
   "cell_type": "code",
   "execution_count": 322,
   "metadata": {},
   "outputs": [],
   "source": [
    "# 超參數 \n",
    "iters_num = 1000\n",
    "batch_size = 100\n",
    "learning_rate = 0.01\n",
    "train_size = train_label_ML.shape[0]\n",
    "\n",
    "network = TwoLayerNet(input_size=1024, hidden_size=128, output_size=50)"
   ]
  },
  {
   "cell_type": "code",
   "execution_count": 332,
   "metadata": {},
   "outputs": [
    {
     "name": "stderr",
     "output_type": "stream",
     "text": [
      "/home/re6091054/.local/lib/python3.6/site-packages/ipykernel_launcher.py:33: DeprecationWarning: elementwise comparison failed; this will raise an error in the future.\n"
     ]
    },
    {
     "name": "stdout",
     "output_type": "stream",
     "text": [
      "epochs：0, train acc：0.0202448, valid acc：0.02 , test acc：0.02 ；train acc_5：0.0202448, valid acc_5：0.02, test acc_5：0.02 \n",
      "epochs：100, train acc：0.0202448, valid acc：0.02 , test acc：0.02 ；train acc_5：0.0202448, valid acc_5：0.02, test acc_5：0.02 \n",
      "epochs：200, train acc：0.0202448, valid acc：0.02 , test acc：0.02 ；train acc_5：0.0202448, valid acc_5：0.02, test acc_5：0.02 \n",
      "epochs：300, train acc：0.0202448, valid acc：0.02 , test acc：0.02 ；train acc_5：0.0202448, valid acc_5：0.02, test acc_5：0.02 \n",
      "epochs：400, train acc：0.0202448, valid acc：0.02 , test acc：0.02 ；train acc_5：0.0202448, valid acc_5：0.02, test acc_5：0.02 \n",
      "epochs：500, train acc：0.0202448, valid acc：0.02 , test acc：0.02 ；train acc_5：0.0202448, valid acc_5：0.02, test acc_5：0.02 \n",
      "epochs：600, train acc：0.0202448, valid acc：0.02 , test acc：0.02 ；train acc_5：0.0202448, valid acc_5：0.02, test acc_5：0.02 \n",
      "epochs：700, train acc：0.0202448, valid acc：0.02 , test acc：0.02 ；train acc_5：0.0202448, valid acc_5：0.02, test acc_5：0.02 \n",
      "epochs：800, train acc：0.0202448, valid acc：0.02 , test acc：0.02 ；train acc_5：0.0202448, valid acc_5：0.02, test acc_5：0.02 \n",
      "epochs：900, train acc：0.0202448, valid acc：0.02 , test acc：0.02 ；train acc_5：0.0202448, valid acc_5：0.02, test acc_5：0.02 \n"
     ]
    }
   ],
   "source": [
    "train_acc_list = []\n",
    "valid_acc_list = []\n",
    "test_acc_list = []\n",
    "train_acc_5_list = []\n",
    "valid_acc_5_list = []\n",
    "test_acc_5_list = []\n",
    "\n",
    "for i in range(iters_num):\n",
    "    batch_mask = np.random.choice(train_size, batch_size)\n",
    "    x_batch = train_data[batch_mask]\n",
    "    t_batch = train_label_ML[batch_mask]\n",
    "    \n",
    "    # 勾配\n",
    "    #grad = network.numerical_gradient(x_batch, t_batch)\n",
    "    grad = network.gradient(x_batch, t_batch)\n",
    "    \n",
    "    # 更新\n",
    "    for key in ('W1', 'b1', 'W2', 'b2'):\n",
    "        network.params[key] -= learning_rate * grad[key]\n",
    "    \n",
    "    loss = network.loss(x_batch, t_batch)\n",
    "    train_loss_list.append(loss)\n",
    "    \n",
    "    if i % 100 == 0:\n",
    "#         train_acc = network.accuracy(x_train, t_train)\n",
    "#         test_acc = network.accuracy(x_test, t_test)\n",
    "#         train_acc_list.append(train_acc)\n",
    "#         test_acc_list.append(test_acc)\n",
    "#         print(train_acc, test_acc)\n",
    "        train_acc = network.accuracy(train_data, train_label_ML, k= 1)        \n",
    "        valid_acc = network.accuracy(valid_data, valid_label_ML, k= 1)  \n",
    "        test_acc = network.accuracy(test_data, test_label_ML, k= 1)\n",
    "        \n",
    "        train_acc_5 = network.accuracy(train_data, train_label_ML, k= 5)        \n",
    "        valid_acc_5 = network.accuracy(valid_data, valid_label_ML, k= 5)  \n",
    "        test_acc_5 = network.accuracy(test_data, test_label_ML, k= 5)\n",
    "        \n",
    "        train_acc_list.append(train_acc) \n",
    "        valid_acc_list.append(valid_acc)\n",
    "        test_acc_list.append(test_acc)     \n",
    "        \n",
    "        train_acc_5_list.append(train_acc_5) \n",
    "        valid_acc_5_list.append(valid_acc_5)\n",
    "        test_acc_5_list.append(test_acc_5)\n",
    "        #print(\"train acc, valid acc , test acc| \" + str(train_acc) + \", \" + str(valid_acc) + \", \" + str(test_acc)+'；' +\"train acc_5, valid acc_5, test acc_5| \" + str(train_acc_5) + \", \" + str(valid_acc_5) + \", \" + str(test_acc_5))\n",
    "        print(\"epochs：{}, train acc：{:.6}, valid acc：{} , test acc：{} \".format(i, train_acc,valid_acc,test_acc)+'；' +\"train acc_5：{:.6}, valid acc_5：{}, test acc_5：{} \".format(train_acc_5, valid_acc_5, test_acc_5))\n"
   ]
  },
  {
   "cell_type": "code",
   "execution_count": 341,
   "metadata": {},
   "outputs": [],
   "source": [
    "x = np.arange(0, 1000, 100)"
   ]
  },
  {
   "cell_type": "code",
   "execution_count": 342,
   "metadata": {},
   "outputs": [],
   "source": [
    "import matplotlib.pylab as plt\n",
    "import seaborn as sns"
   ]
  },
  {
   "cell_type": "code",
   "execution_count": 343,
   "metadata": {},
   "outputs": [
    {
     "data": {
      "text/plain": [
       "((10,), 10)"
      ]
     },
     "execution_count": 343,
     "metadata": {},
     "output_type": "execute_result"
    }
   ],
   "source": [
    "x.shape,len(train_acc_list)"
   ]
  },
  {
   "cell_type": "code",
   "execution_count": 344,
   "metadata": {},
   "outputs": [
    {
     "data": {
      "image/png": "[encoded data removed]",
      "text/plain": [
       "<Figure size 1152x432 with 1 Axes>"
      ]
     },
     "metadata": {
      "needs_background": "light"
     },
     "output_type": "display_data"
    }
   ],
   "source": [
    "fig = plt.figure()\n",
    "#x = list(range(0, len(train_acc) * 50, 50))\n",
    "ax = sns.lineplot(x = x, y = train_acc_list, color='seagreen', label = 'Train Top 1 accuracy')\n",
    "sns.lineplot(x = x, y = train_acc_5_list, color='royalblue', label = 'Train Top 5 accuracy')\n",
    "sns.lineplot(x = x, y = valid_acc_list, color='red', label = 'Validation Top 1 accuracy')\n",
    "sns.lineplot(x = x, y = valid_acc_5_list, color='gold', label = 'Validation Top 5 accuracy')\n",
    "ax.set_xlabel(\"Epoch\", size = 14)\n",
    "ax.set_ylabel(\"Accuracy\", size = 14)\n",
    "ax.set_title(\"Train vs Validation\", size = 14, fontweight='bold')\n",
    "ax.legend()\n",
    "fig.set_figheight(6)\n",
    "fig.set_figwidth(16)"
   ]
  },
  {
   "cell_type": "code",
   "execution_count": null,
   "metadata": {},
   "outputs": [],
   "source": []
  },
  {
   "cell_type": "markdown",
   "metadata": {},
   "source": [
    "# One Layer NN Model "
   ]
  },
  {
   "cell_type": "code",
   "execution_count": 318,
   "metadata": {},
   "outputs": [],
   "source": [
    "class OneLayerNet():\n",
    "    def __init__(self, input_size, output_size, weight_init_std=0.01):\n",
    "        \"\"\"\n",
    "        :param: input_size - 輸入層的神經元數\n",
    "        :param: hidden_size - 隱藏層的神經元數\n",
    "        ;param: output_size - 輸出層的神經元數\n",
    "        \"\"\"\n",
    "        # 初始化權重        \n",
    "        self.params = {}        \n",
    "        self.params[\"W\"] = weight_init_std * np.random.randn(input_size, output_size)       \n",
    "        self.params[\"b\"] = np.zeros(output_size)        \n",
    "    \n",
    "    def softmax(self, z):    \n",
    "\n",
    "        exp_z = np.exp(z - np.max(z)) # 溢位對策    \n",
    "        sum_exp_z = np.sum(exp_z)    \n",
    "        y = exp_z / sum_exp_z\n",
    "        return y\n",
    "\n",
    "    \n",
    "    def forward(self, x):\n",
    "        Z = np.dot(x, self.params[\"W\"]) +self.params[\"b\"]\n",
    "        A = self.softmax(Z)\n",
    "        return A\n",
    "    \n",
    "    def backward(self, x, y_target, A):\n",
    "        grads = {}        \n",
    "\n",
    "        n = x.shape[0]\n",
    "        dZ = A - y_target\n",
    "        dW = np.dot(x.T, dZ) / n\n",
    "        db = np.sum(dZ, axis=1, keepdims=True) / n\n",
    "        grads[\"dW\"] = dW       \n",
    "        grads[\"db\"] = db\n",
    "        return grads\n",
    "        \n",
    "    def cross_entropy_error(self, y, t):    \n",
    "        if y.ndim == 1:        \n",
    "            t = t.reshape(1, t.size)        \n",
    "            y = y.reshape(1, y.size)\n",
    "        batch_size = y.shape[0]    \n",
    "        return -np.sum(np.log(y[np.arange(batch_size), t] + 1e-7)) / batch_size\n",
    "\n",
    "    def loss(self, x, t):        \n",
    "        y = self.predict(x)  \n",
    "        return self.cross_entropy_error(y, t)\n",
    "        \n",
    "    def train(self, x, t): \n",
    "        A = self.forward(x)\n",
    "        loss = self.cross_entropy_error(A.astype('int64'), t.astype('int64'))\n",
    "        grads = self.backward(x, t, A)\n",
    "        #print('x=',x.shape, 'W=',self.params[\"W\"].shape, 'b=',self.params[\"b\"].shape)\n",
    "        self.params[\"W\"] = self.params[\"W\"] - learning_rate * grads[\"dW\"]\n",
    "        self.params[\"b\"] = self.params[\"b\"] - learning_rate * grads[\"db\"]\n",
    "        #print('x=',x.shape, 'W=',self.params[\"W\"].shape, 'b=',self.params[\"b\"].shape)\n",
    "        return loss\n",
    "     \n",
    "    def predict(self, x, t, k):        \n",
    "        y = self.forward(x)\n",
    "        y_hat_k = y.argsort(axis=0).T[:,-k:]\n",
    "        #y = np.argmax(y, axis=1)\n",
    "        #t = np.argmax(t, axis=1)\n",
    "        accuracy = (y_hat_k.any() == t).sum() / float(x.shape[0])        \n",
    "        return accuracy\n"
   ]
  },
  {
   "cell_type": "code",
   "execution_count": 319,
   "metadata": {},
   "outputs": [],
   "source": [
    "# 超引數 \n",
    "iters_num = 1000\n",
    "batch_size = 1\n",
    "learning_rate = 0.001\n",
    "\n",
    "network = OneLayerNet(input_size=1024,output_size=50)"
   ]
  },
  {
   "cell_type": "code",
   "execution_count": 320,
   "metadata": {},
   "outputs": [
    {
     "name": "stdout",
     "output_type": "stream",
     "text": [
      "epochs：0, train acc：0.0202448, valid acc：0.02 , test acc：0.02 ；train acc_5：0.0202448, valid acc_5：0.02, test acc_5：0.02 \n",
      "epochs：100, train acc：0.0202448, valid acc：0.02 , test acc：0.02 ；train acc_5：0.0202448, valid acc_5：0.02, test acc_5：0.02 \n",
      "epochs：200, train acc：0.0202448, valid acc：0.02 , test acc：0.02 ；train acc_5：0.0202448, valid acc_5：0.02, test acc_5：0.02 \n",
      "epochs：300, train acc：0.0202448, valid acc：0.02 , test acc：0.02 ；train acc_5：0.0202448, valid acc_5：0.02, test acc_5：0.02 \n",
      "epochs：400, train acc：0.0202448, valid acc：0.02 , test acc：0.02 ；train acc_5：0.0202448, valid acc_5：0.02, test acc_5：0.02 \n",
      "epochs：500, train acc：0.0202448, valid acc：0.02 , test acc：0.02 ；train acc_5：0.0202448, valid acc_5：0.02, test acc_5：0.02 \n",
      "epochs：600, train acc：0.0202448, valid acc：0.02 , test acc：0.02 ；train acc_5：0.0202448, valid acc_5：0.02, test acc_5：0.02 \n",
      "epochs：700, train acc：0.0202448, valid acc：0.02 , test acc：0.02 ；train acc_5：0.0202448, valid acc_5：0.02, test acc_5：0.02 \n",
      "epochs：800, train acc：0.0202448, valid acc：0.02 , test acc：0.02 ；train acc_5：0.0202448, valid acc_5：0.02, test acc_5：0.02 \n",
      "epochs：900, train acc：0.0202448, valid acc：0.02 , test acc：0.02 ；train acc_5：0.0202448, valid acc_5：0.02, test acc_5：0.02 \n"
     ]
    }
   ],
   "source": [
    "# NN訓練程式碼\n",
    "\n",
    "train_loss_list = [] \n",
    "train_acc_list = [] \n",
    "valid_acc_list = [] \n",
    "test_acc_list = []\n",
    "# 平均每個epoch的重複次數 \n",
    "train_size = train_label_ML.shape[0]\n",
    "#train_label_ML = _change_one_hot_label(train_label_ML)\n",
    "for i in range(iters_num):    \n",
    "    # 獲取mini-batch    \n",
    "    batch_mask = np.random.choice(train_size, batch_size)    \n",
    "    x_batch = train_data[batch_mask] \n",
    "    t_batch = train_label_ML[batch_mask]\n",
    "\n",
    "    loss = network.train(x_batch, t_batch)\n",
    "    train_loss_list.append(loss)\n",
    "\n",
    "    # 計算每個epoch的識別精度    \n",
    "    if i % 100 == 0:        \n",
    "        train_acc = network.predict(train_data, train_label_ML, k= 1)        \n",
    "        valid_acc = network.predict(valid_data, valid_label_ML, k= 1)  \n",
    "        test_acc = network.predict(test_data, test_label_ML, k= 1)\n",
    "        \n",
    "        train_acc_5 = network.predict(train_data, train_label_ML, k= 5)        \n",
    "        valid_acc_5 = network.predict(valid_data, valid_label_ML, k= 5)  \n",
    "        test_acc_5 = network.predict(test_data, test_label_ML, k= 5)\n",
    "        \n",
    "        train_acc_list.append(train_acc) \n",
    "        valid_acc_list.append(valid_acc)\n",
    "        test_acc_list.append(test_acc)        \n",
    "        #print(\"train acc, valid acc , test acc| \" + str(train_acc) + \", \" + str(valid_acc) + \", \" + str(test_acc)+'；' +\"train acc_5, valid acc_5, test acc_5| \" + str(train_acc_5) + \", \" + str(valid_acc_5) + \", \" + str(test_acc_5))\n",
    "        print(\"epochs：{}, train acc：{:.6}, valid acc：{} , test acc：{} \".format(i, train_acc,valid_acc,test_acc)+'；' +\"train acc_5：{:.6}, valid acc_5：{}, test acc_5：{} \".format(train_acc_5, valid_acc_5, test_acc_5))\n"
   ]
  },
  {
   "cell_type": "code",
   "execution_count": 345,
   "metadata": {},
   "outputs": [
    {
     "data": {
      "image/png": "[encoded data removed]",
      "text/plain": [
       "<Figure size 1152x432 with 1 Axes>"
      ]
     },
     "metadata": {
      "needs_background": "light"
     },
     "output_type": "display_data"
    }
   ],
   "source": [
    "fig = plt.figure()\n",
    "#x = list(range(0, len(train_acc) * 50, 50))\n",
    "ax = sns.lineplot(x = x, y = train_acc_list, color='seagreen', label = 'Train Top 1 accuracy')\n",
    "sns.lineplot(x = x, y = train_acc_5_list, color='royalblue', label = 'Train Top 5 accuracy')\n",
    "sns.lineplot(x = x, y = valid_acc_list, color='red', label = 'Validation Top 1 accuracy')\n",
    "sns.lineplot(x = x, y = valid_acc_5_list, color='gold', label = 'Validation Top 5 accuracy')\n",
    "ax.set_xlabel(\"Epoch\", size = 14)\n",
    "ax.set_ylabel(\"Accuracy\", size = 14)\n",
    "ax.set_title(\"Train vs Validation\", size = 14, fontweight='bold')\n",
    "ax.legend()\n",
    "fig.set_figheight(6)\n",
    "fig.set_figwidth(16)"
   ]
  },
  {
   "cell_type": "code",
   "execution_count": null,
   "metadata": {},
   "outputs": [],
   "source": []
  }
 ],
 "metadata": {
  "kernelspec": {
   "display_name": "Python 3",
   "language": "python",
   "name": "python3"
  },
  "language_info": {
   "codemirror_mode": {
    "name": "ipython",
    "version": 3
   },
   "file_extension": ".py",
   "mimetype": "text/x-python",
   "name": "python",
   "nbconvert_exporter": "python",
   "pygments_lexer": "ipython3",
   "version": "3.6.9"
  }
 },
 "nbformat": 4,
 "nbformat_minor": 4
}
